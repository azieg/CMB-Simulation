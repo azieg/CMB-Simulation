{
 "cells": [
  {
   "cell_type": "code",
   "execution_count": 1,
   "metadata": {},
   "outputs": [
    {
     "name": "stdout",
     "output_type": "stream",
     "text": [
      "importing Jupyter notebook from milestone3.ipynb\n",
      "importing Jupyter notebook from milestone2.ipynb\n",
      "importing Jupyter notebook from milestone1.ipynb\n",
      "The surface of last scattering occured at x_* = -6.98 and z_* = 1068.80.\n",
      "\n",
      "The half-way point of recombination occured at x_r = -7.16 and z_r = 1291.14.\n",
      "\n",
      "Using only the Saha equation, the half-way point of recombination occured at x_r = -7.23 and z_r = 1380.38.\n",
      "\n",
      "------------------------------\n",
      "k: 0\n",
      "xtc: -7.396680743953642\n"
     ]
    },
    {
     "name": "stderr",
     "output_type": "stream",
     "text": [
      "milestone1.ipynb:7: RuntimeWarning: overflow encountered in exp\n",
      "  \"outputs\": [],\n",
      "milestone1.ipynb:10: RuntimeWarning: overflow encountered in exp\n",
      "  \"import numpy as np\\n\",\n",
      "milestone1.ipynb:10: RuntimeWarning: invalid value encountered in double_scalars\n",
      "  \"import numpy as np\\n\",\n",
      "milestone3.ipynb:14: RuntimeWarning: overflow encountered in exp\n",
      "  \"The surface of last scattering occured at x_* = -6.98 and z_* = 1068.80.\\n\",\n",
      "milestone3.ipynb:25: RuntimeWarning: overflow encountered in exp\n",
      "  \"from milestone2 import *\\n\",\n"
     ]
    },
    {
     "name": "stdout",
     "output_type": "stream",
     "text": [
      "------------------------------\n",
      "k: 10\n",
      "xtc: -7.396680743953642\n",
      "------------------------------\n",
      "k: 20\n",
      "xtc: -7.396680743953642\n",
      "------------------------------\n",
      "k: 30\n",
      "xtc: -7.396680743953642\n",
      "------------------------------\n",
      "k: 40\n",
      "xtc: -7.396680743953642\n",
      "------------------------------\n",
      "k: 50\n",
      "xtc: -7.396680743953642\n",
      "------------------------------\n",
      "k: 60\n",
      "xtc: -7.396680743953642\n"
     ]
    },
    {
     "name": "stderr",
     "output_type": "stream",
     "text": [
      "milestone1.ipynb:10: RuntimeWarning: overflow encountered in double_scalars\n",
      "  \"import numpy as np\\n\",\n",
      "milestone3.ipynb:30: RuntimeWarning: invalid value encountered in double_scalars\n",
      "  \"from scipy.interpolate import RectBivariateSpline\\n\",\n"
     ]
    },
    {
     "name": "stdout",
     "output_type": "stream",
     "text": [
      "------------------------------\n",
      "k: 70\n",
      "xtc: -7.396680743953642\n",
      "------------------------------\n",
      "k: 80\n",
      "xtc: -7.396680743953642\n",
      "------------------------------\n",
      "k: 90\n",
      "xtc: -7.396680743953642\n",
      "Time: 66.33774719999928\n",
      "[ 0.          1.11111111  2.22222222  3.33333333  4.44444444  5.55555556\n",
      "  6.66666667  7.77777778  8.88888889 10.        ]\n",
      "[4.44444444 5.55555556 6.66666667 7.77777778 8.88888889]\n"
     ]
    }
   ],
   "source": [
    "import import_ipynb\n",
    "from milestone3 import *\n",
    "from scipy.integrate import quad\n",
    "\n",
    "from scipy.special import spherical_jn"
   ]
  },
  {
   "cell_type": "code",
   "execution_count": 2,
   "metadata": {},
   "outputs": [],
   "source": [
    "l_array = np.array([2, 3, 4, 5, 6, 7, 8, 10, 12, 15, 20, 25, 30, 40, 50, 60, 70, 80, 90, 100, 120, 140, 160, 180, 200, 225, 250, 275, 300, 350, 400, 450, 500, 550, 600, 650, 700, 750, 800, 850, 900, 950, 1000, 1050, 1100, 1150, 1200, 1250, 1300, 1350, 1400, 1450, 1500, 1550, 1600, 1650, 1700, 1750, 1800, 1850, 1900, 1950, 2000, 2150, 2300, 2450, 2600, 2750, 2900, 3000, 3200, 3400, 3600, 3800, 4000])\n",
    "kpivot_Mpc = .05\n",
    "kpivot = kpivot_Mpc/m2Mpc\n",
    "ns = .96\n",
    "A_s = 2.0e-9\n",
    "lmax = 1500\n",
    "ls = l_array[l_array < lmax]\n",
    "n_l = len(ls)"
   ]
  },
  {
   "cell_type": "code",
   "execution_count": 3,
   "metadata": {},
   "outputs": [],
   "source": [
    "def cell_TT(l):\n",
    "    \"\"\"The CMB power specturm l(l + 1)/2π Cell in units of (μK)^2\"\"\"\n",
    "    \n",
    "    return\n",
    "\n",
    "def matter_power_spectrum(k, x):\n",
    "    \"\"\"The matter power-spectrum at wavenumber k at time x = ln(a)\"\"\"\n",
    "    \n",
    "    return\n",
    "\n",
    "def primordial_power_spectrum(k):\n",
    "    \"\"\"The primordial power-spectrum Δ(k) in P(k) = 2π^2/k^3 Δ(k)\"\"\"\n",
    "    \n",
    "    return A_s*(k/kpivot)**(ns - 1.0)"
   ]
  },
  {
   "cell_type": "code",
   "execution_count": 4,
   "metadata": {},
   "outputs": [],
   "source": [
    "class Spherical_Bessel:\n",
    "    def __init__(self, j_l_spline):\n",
    "        self.j_l_spline = j_l_spline\n",
    "        \n",
    "    def make_spline(self):\n",
    "        self.j_l_spline = BSpline(j_l_args, j_l, k=spline_order)\n",
    "        return self.j_l_spline"
   ]
  },
  {
   "cell_type": "code",
   "execution_count": 5,
   "metadata": {},
   "outputs": [],
   "source": [
    "# Create splines of Bessel functions j_l needed below for all ls in 'ls'\n",
    "ini_spl = interp1d([1, 2, 3, 4], [1, 2, 3, 4], kind=spline_order)\n",
    "\n",
    "n_args = 5400\n",
    "j_l_args = np.linspace(0, 3500, n_args, endpoint=True)\n",
    "\n",
    "j_l_splines = np.ndarray((n_l,), dtype=np.object)\n",
    "\n",
    "for i in range(n_l):\n",
    "    j_l = spherical_jn(ls[i], j_l_args)\n",
    "    \n",
    "    j_l_splines[i] = Spherical_Bessel(j_l_spline=ini_spl)\n",
    "    j_l_splines[i].make_spline()"
   ]
  },
  {
   "cell_type": "code",
   "execution_count": 30,
   "metadata": {},
   "outputs": [],
   "source": [
    "def source_function():\n",
    "    S_small = np.zeros(shape = (ntotal, nk))\n",
    "    S = np.zeros(shape = (n_high_res, n_high_res))\n",
    "    \n",
    "    x_grid = np.linspace(xinit, x_end, ntotal)\n",
    "    \n",
    "    for i in range(n_grid, ntotal):\n",
    "        g = gspl(x_grid[i])[0]\n",
    "        dg = g2spl(x_grid[i])[0]\n",
    "        ddg = g22spl(x_grid[i])[0]\n",
    "        τ = τspl(x_grid[i])[0]\n",
    "        dτ = τ2spl(x_grid[i])[0]\n",
    "        ddτ = τ22spl(x_grid[i])[0]\n",
    "        hp = getHPrime(x_grid[i])\n",
    "        dhp = getdHPrime(x_grid[i])\n",
    "        ddhhp = .5*H0**2.0*((Ωb + Ωm)/np.exp(x_grid[i]) + 4.0*Ωr/np.exp(2.0*x_grid[i]) + 4.0*ΩΛ*np.exp(2.0*x_grid[i]))\n",
    "    \n",
    "        for j in range(nk):\n",
    "            Π = Θ[i, 2, j]\n",
    "            dΠ = dΘ[i, 2, j]\n",
    "            ddΠ = .4*c*ks[j]*(-dhp*Θ[i, 1, j]/hp + dΘ[i, 1, j])/hp + .3*(ddτ*Π + dτ*dΠ) - (.6*c*ks[j]/hp)*((-dhp/hp)*Θ[i, 3, j] + dΘ[i, 3, j])\n",
    "            \n",
    "            part1 = g*(Θ[i, 0, j] + Ψ[i, j] + Π/4.0)\n",
    "            part2 = np.exp(-τ)*(dΨ[i, j] - dΦ[i, j])\n",
    "            part3 = -(1.0/(c*ks[j]))*(g*vb[i, j]*dhp + g*hp*dvb[i, j] + hp*vb[i, j]*dg)\n",
    "            part4 = ((3.0/4.0)/(c**2.0*ks[j]**2.0))*(ddhhp*g*Π + 3.0*hp*dhp*(dg*Π + g*dΠ) + hp**2.0*(ddg*Π + 2.0*dg*dΠ + g*ddΠ))\n",
    "            \n",
    "            S_small[i, j] = part1 + part2 + part3 + part4       \n",
    "    \n",
    "    S_small_spl = RectBivariateSpline(x_grid, ks, S_small)\n",
    "    \n",
    "    for i in range(n_high_res):\n",
    "        \n",
    "        for j in range(n_high_res):\n",
    "            S[i, j] = S_small_spl(x_grid_high_res[i], ks_high_res[j])\n",
    "        \n",
    "    S_spl = RectBivariateSpline(x_grid_high_res, ks_high_res, S)\n",
    "        \n",
    "    return S_spl"
   ]
  },
  {
   "cell_type": "code",
   "execution_count": 31,
   "metadata": {},
   "outputs": [],
   "source": [
    "# Set up k-array to evaluate Θ_l on\n",
    "n_high_res = 5000\n",
    "\n",
    "\n",
    "ks_high_res = np.exp(np.linspace(np.log(kmin), np.log(kmax), num=n_high_res))\n",
    "\n",
    "xstartrec = -np.log(1.0 + 1630.4)\n",
    "x_grid_high_res = np.linspace(xstartrec, x_end, n_high_res, endpoint=True)\n",
    "\n",
    "S_spl = source_function()\n",
    "\n",
    "η_high_res = np.linspace(η_grid[0], η_grid[-1], n_high_res, endpoint=True)"
   ]
  },
  {
   "cell_type": "code",
   "execution_count": 34,
   "metadata": {},
   "outputs": [
    {
     "data": {
      "text/plain": [
       "array([0.20161669])"
      ]
     },
     "execution_count": 34,
     "metadata": {},
     "output_type": "execute_result"
    }
   ],
   "source": [
    "j_l_splines[0].j_l_spline(ks_high_res[0]*(η_ini - η_spline(x_grid[0])))"
   ]
  },
  {
   "cell_type": "code",
   "execution_count": 39,
   "metadata": {},
   "outputs": [
    {
     "name": "stdout",
     "output_type": "stream",
     "text": [
      "0\n",
      "0\n"
     ]
    },
    {
     "name": "stderr",
     "output_type": "stream",
     "text": [
      "C:\\Users\\Alexander\\Anaconda3\\lib\\site-packages\\ipykernel_launcher.py:14: IntegrationWarning: The maximum number of subdivisions (50) has been achieved.\n",
      "  If increasing the limit yields no improvement it is advised to analyze \n",
      "  the integrand in order to determine the difficulties.  If the position of a \n",
      "  local difficulty can be determined (singularity, discontinuity) one will \n",
      "  probably gain from splitting up the interval and calling the integrator \n",
      "  on the subranges.  Perhaps a special-purpose integrator should be used.\n",
      "  \n"
     ]
    },
    {
     "ename": "KeyboardInterrupt",
     "evalue": "",
     "output_type": "error",
     "traceback": [
      "\u001b[1;31m---------------------------------------------------------------------------\u001b[0m",
      "\u001b[1;31mKeyboardInterrupt\u001b[0m                         Traceback (most recent call last)",
      "\u001b[1;32m<ipython-input-39-9bc0b71b057b>\u001b[0m in \u001b[0;36m<module>\u001b[1;34m\u001b[0m\n\u001b[0;32m     12\u001b[0m             \u001b[0mprint\u001b[0m\u001b[1;33m(\u001b[0m\u001b[0mk\u001b[0m\u001b[1;33m)\u001b[0m\u001b[1;33m\u001b[0m\u001b[1;33m\u001b[0m\u001b[0m\n\u001b[0;32m     13\u001b[0m         \u001b[0mk0\u001b[0m \u001b[1;33m=\u001b[0m \u001b[0mks_high_res\u001b[0m\u001b[1;33m[\u001b[0m\u001b[0mk\u001b[0m\u001b[1;33m]\u001b[0m\u001b[1;33m\u001b[0m\u001b[1;33m\u001b[0m\u001b[0m\n\u001b[1;32m---> 14\u001b[1;33m         \u001b[0mΘ_lk\u001b[0m\u001b[1;33m[\u001b[0m\u001b[0ml\u001b[0m\u001b[1;33m,\u001b[0m \u001b[0mk\u001b[0m\u001b[1;33m]\u001b[0m \u001b[1;33m=\u001b[0m \u001b[0mquad\u001b[0m\u001b[1;33m(\u001b[0m\u001b[0mΘ_integrand\u001b[0m\u001b[1;33m,\u001b[0m \u001b[1;33m-\u001b[0m\u001b[0mnp\u001b[0m\u001b[1;33m.\u001b[0m\u001b[0minf\u001b[0m\u001b[1;33m,\u001b[0m \u001b[1;36m0\u001b[0m\u001b[1;33m,\u001b[0m \u001b[0margs\u001b[0m\u001b[1;33m=\u001b[0m\u001b[1;33m(\u001b[0m\u001b[0mk\u001b[0m\u001b[1;33m,\u001b[0m \u001b[0ml\u001b[0m\u001b[1;33m)\u001b[0m\u001b[1;33m)\u001b[0m\u001b[1;33m[\u001b[0m\u001b[1;36m0\u001b[0m\u001b[1;33m]\u001b[0m\u001b[1;33m\u001b[0m\u001b[1;33m\u001b[0m\u001b[0m\n\u001b[0m\u001b[0;32m     15\u001b[0m \u001b[1;33m\u001b[0m\u001b[0m\n",
      "\u001b[1;32m~\\Anaconda3\\lib\\site-packages\\scipy\\integrate\\quadpack.py\u001b[0m in \u001b[0;36mquad\u001b[1;34m(func, a, b, args, full_output, epsabs, epsrel, limit, points, weight, wvar, wopts, maxp1, limlst)\u001b[0m\n\u001b[0;32m    340\u001b[0m     \u001b[1;32mif\u001b[0m \u001b[0mweight\u001b[0m \u001b[1;32mis\u001b[0m \u001b[1;32mNone\u001b[0m\u001b[1;33m:\u001b[0m\u001b[1;33m\u001b[0m\u001b[1;33m\u001b[0m\u001b[0m\n\u001b[0;32m    341\u001b[0m         retval = _quad(func, a, b, args, full_output, epsabs, epsrel, limit,\n\u001b[1;32m--> 342\u001b[1;33m                        points)\n\u001b[0m\u001b[0;32m    343\u001b[0m     \u001b[1;32melse\u001b[0m\u001b[1;33m:\u001b[0m\u001b[1;33m\u001b[0m\u001b[1;33m\u001b[0m\u001b[0m\n\u001b[0;32m    344\u001b[0m         \u001b[1;32mif\u001b[0m \u001b[0mpoints\u001b[0m \u001b[1;32mis\u001b[0m \u001b[1;32mnot\u001b[0m \u001b[1;32mNone\u001b[0m\u001b[1;33m:\u001b[0m\u001b[1;33m\u001b[0m\u001b[1;33m\u001b[0m\u001b[0m\n",
      "\u001b[1;32m~\\Anaconda3\\lib\\site-packages\\scipy\\integrate\\quadpack.py\u001b[0m in \u001b[0;36m_quad\u001b[1;34m(func, a, b, args, full_output, epsabs, epsrel, limit, points)\u001b[0m\n\u001b[0;32m    453\u001b[0m             \u001b[1;32mreturn\u001b[0m \u001b[0m_quadpack\u001b[0m\u001b[1;33m.\u001b[0m\u001b[0m_qagse\u001b[0m\u001b[1;33m(\u001b[0m\u001b[0mfunc\u001b[0m\u001b[1;33m,\u001b[0m\u001b[0ma\u001b[0m\u001b[1;33m,\u001b[0m\u001b[0mb\u001b[0m\u001b[1;33m,\u001b[0m\u001b[0margs\u001b[0m\u001b[1;33m,\u001b[0m\u001b[0mfull_output\u001b[0m\u001b[1;33m,\u001b[0m\u001b[0mepsabs\u001b[0m\u001b[1;33m,\u001b[0m\u001b[0mepsrel\u001b[0m\u001b[1;33m,\u001b[0m\u001b[0mlimit\u001b[0m\u001b[1;33m)\u001b[0m\u001b[1;33m\u001b[0m\u001b[1;33m\u001b[0m\u001b[0m\n\u001b[0;32m    454\u001b[0m         \u001b[1;32melse\u001b[0m\u001b[1;33m:\u001b[0m\u001b[1;33m\u001b[0m\u001b[1;33m\u001b[0m\u001b[0m\n\u001b[1;32m--> 455\u001b[1;33m             \u001b[1;32mreturn\u001b[0m \u001b[0m_quadpack\u001b[0m\u001b[1;33m.\u001b[0m\u001b[0m_qagie\u001b[0m\u001b[1;33m(\u001b[0m\u001b[0mfunc\u001b[0m\u001b[1;33m,\u001b[0m\u001b[0mbound\u001b[0m\u001b[1;33m,\u001b[0m\u001b[0minfbounds\u001b[0m\u001b[1;33m,\u001b[0m\u001b[0margs\u001b[0m\u001b[1;33m,\u001b[0m\u001b[0mfull_output\u001b[0m\u001b[1;33m,\u001b[0m\u001b[0mepsabs\u001b[0m\u001b[1;33m,\u001b[0m\u001b[0mepsrel\u001b[0m\u001b[1;33m,\u001b[0m\u001b[0mlimit\u001b[0m\u001b[1;33m)\u001b[0m\u001b[1;33m\u001b[0m\u001b[1;33m\u001b[0m\u001b[0m\n\u001b[0m\u001b[0;32m    456\u001b[0m     \u001b[1;32melse\u001b[0m\u001b[1;33m:\u001b[0m\u001b[1;33m\u001b[0m\u001b[1;33m\u001b[0m\u001b[0m\n\u001b[0;32m    457\u001b[0m         \u001b[1;32mif\u001b[0m \u001b[0minfbounds\u001b[0m \u001b[1;33m!=\u001b[0m \u001b[1;36m0\u001b[0m\u001b[1;33m:\u001b[0m\u001b[1;33m\u001b[0m\u001b[1;33m\u001b[0m\u001b[0m\n",
      "\u001b[1;32m<ipython-input-39-9bc0b71b057b>\u001b[0m in \u001b[0;36mΘ_integrand\u001b[1;34m(x, k, l)\u001b[0m\n\u001b[0;32m      4\u001b[0m \u001b[1;32mdef\u001b[0m \u001b[0mΘ_integrand\u001b[0m\u001b[1;33m(\u001b[0m\u001b[0mx\u001b[0m\u001b[1;33m,\u001b[0m \u001b[0mk\u001b[0m\u001b[1;33m,\u001b[0m \u001b[0ml\u001b[0m\u001b[1;33m)\u001b[0m\u001b[1;33m:\u001b[0m\u001b[1;33m\u001b[0m\u001b[1;33m\u001b[0m\u001b[0m\n\u001b[0;32m      5\u001b[0m \u001b[1;33m\u001b[0m\u001b[0m\n\u001b[1;32m----> 6\u001b[1;33m     \u001b[1;32mreturn\u001b[0m \u001b[0mS_spl\u001b[0m\u001b[1;33m(\u001b[0m\u001b[0mx\u001b[0m\u001b[1;33m,\u001b[0m \u001b[0mk\u001b[0m\u001b[1;33m)\u001b[0m\u001b[1;33m*\u001b[0m\u001b[0mj_l_splines\u001b[0m\u001b[1;33m[\u001b[0m\u001b[0ml\u001b[0m\u001b[1;33m]\u001b[0m\u001b[1;33m.\u001b[0m\u001b[0mj_l_spline\u001b[0m\u001b[1;33m(\u001b[0m\u001b[0mks_high_res\u001b[0m\u001b[1;33m[\u001b[0m\u001b[0mk\u001b[0m\u001b[1;33m]\u001b[0m\u001b[1;33m*\u001b[0m\u001b[1;33m(\u001b[0m\u001b[0mη_ini\u001b[0m \u001b[1;33m-\u001b[0m \u001b[0mη_spline\u001b[0m\u001b[1;33m(\u001b[0m\u001b[0mx\u001b[0m\u001b[1;33m)\u001b[0m\u001b[1;33m)\u001b[0m\u001b[1;33m)\u001b[0m\u001b[1;33m\u001b[0m\u001b[1;33m\u001b[0m\u001b[0m\n\u001b[0m\u001b[0;32m      7\u001b[0m \u001b[1;33m\u001b[0m\u001b[0m\n\u001b[0;32m      8\u001b[0m \u001b[1;32mfor\u001b[0m \u001b[0ml\u001b[0m \u001b[1;32min\u001b[0m \u001b[0mrange\u001b[0m\u001b[1;33m(\u001b[0m\u001b[0mn_l\u001b[0m\u001b[1;33m)\u001b[0m\u001b[1;33m:\u001b[0m\u001b[1;33m\u001b[0m\u001b[1;33m\u001b[0m\u001b[0m\n",
      "\u001b[1;32m~\\Anaconda3\\lib\\site-packages\\scipy\\interpolate\\_bsplines.py\u001b[0m in \u001b[0;36m__call__\u001b[1;34m(self, x, nu, extrapolate)\u001b[0m\n\u001b[0;32m    346\u001b[0m         \u001b[0mout\u001b[0m \u001b[1;33m=\u001b[0m \u001b[0mnp\u001b[0m\u001b[1;33m.\u001b[0m\u001b[0mempty\u001b[0m\u001b[1;33m(\u001b[0m\u001b[1;33m(\u001b[0m\u001b[0mlen\u001b[0m\u001b[1;33m(\u001b[0m\u001b[0mx\u001b[0m\u001b[1;33m)\u001b[0m\u001b[1;33m,\u001b[0m \u001b[0mprod\u001b[0m\u001b[1;33m(\u001b[0m\u001b[0mself\u001b[0m\u001b[1;33m.\u001b[0m\u001b[0mc\u001b[0m\u001b[1;33m.\u001b[0m\u001b[0mshape\u001b[0m\u001b[1;33m[\u001b[0m\u001b[1;36m1\u001b[0m\u001b[1;33m:\u001b[0m\u001b[1;33m]\u001b[0m\u001b[1;33m)\u001b[0m\u001b[1;33m)\u001b[0m\u001b[1;33m,\u001b[0m \u001b[0mdtype\u001b[0m\u001b[1;33m=\u001b[0m\u001b[0mself\u001b[0m\u001b[1;33m.\u001b[0m\u001b[0mc\u001b[0m\u001b[1;33m.\u001b[0m\u001b[0mdtype\u001b[0m\u001b[1;33m)\u001b[0m\u001b[1;33m\u001b[0m\u001b[1;33m\u001b[0m\u001b[0m\n\u001b[0;32m    347\u001b[0m         \u001b[0mself\u001b[0m\u001b[1;33m.\u001b[0m\u001b[0m_ensure_c_contiguous\u001b[0m\u001b[1;33m(\u001b[0m\u001b[1;33m)\u001b[0m\u001b[1;33m\u001b[0m\u001b[1;33m\u001b[0m\u001b[0m\n\u001b[1;32m--> 348\u001b[1;33m         \u001b[0mself\u001b[0m\u001b[1;33m.\u001b[0m\u001b[0m_evaluate\u001b[0m\u001b[1;33m(\u001b[0m\u001b[0mx\u001b[0m\u001b[1;33m,\u001b[0m \u001b[0mnu\u001b[0m\u001b[1;33m,\u001b[0m \u001b[0mextrapolate\u001b[0m\u001b[1;33m,\u001b[0m \u001b[0mout\u001b[0m\u001b[1;33m)\u001b[0m\u001b[1;33m\u001b[0m\u001b[1;33m\u001b[0m\u001b[0m\n\u001b[0m\u001b[0;32m    349\u001b[0m         \u001b[0mout\u001b[0m \u001b[1;33m=\u001b[0m \u001b[0mout\u001b[0m\u001b[1;33m.\u001b[0m\u001b[0mreshape\u001b[0m\u001b[1;33m(\u001b[0m\u001b[0mx_shape\u001b[0m \u001b[1;33m+\u001b[0m \u001b[0mself\u001b[0m\u001b[1;33m.\u001b[0m\u001b[0mc\u001b[0m\u001b[1;33m.\u001b[0m\u001b[0mshape\u001b[0m\u001b[1;33m[\u001b[0m\u001b[1;36m1\u001b[0m\u001b[1;33m:\u001b[0m\u001b[1;33m]\u001b[0m\u001b[1;33m)\u001b[0m\u001b[1;33m\u001b[0m\u001b[1;33m\u001b[0m\u001b[0m\n\u001b[0;32m    350\u001b[0m         \u001b[1;32mif\u001b[0m \u001b[0mself\u001b[0m\u001b[1;33m.\u001b[0m\u001b[0maxis\u001b[0m \u001b[1;33m!=\u001b[0m \u001b[1;36m0\u001b[0m\u001b[1;33m:\u001b[0m\u001b[1;33m\u001b[0m\u001b[1;33m\u001b[0m\u001b[0m\n",
      "\u001b[1;32m~\\Anaconda3\\lib\\site-packages\\scipy\\interpolate\\_bsplines.py\u001b[0m in \u001b[0;36m_evaluate\u001b[1;34m(self, xp, nu, extrapolate, out)\u001b[0m\n\u001b[0;32m    357\u001b[0m     \u001b[1;32mdef\u001b[0m \u001b[0m_evaluate\u001b[0m\u001b[1;33m(\u001b[0m\u001b[0mself\u001b[0m\u001b[1;33m,\u001b[0m \u001b[0mxp\u001b[0m\u001b[1;33m,\u001b[0m \u001b[0mnu\u001b[0m\u001b[1;33m,\u001b[0m \u001b[0mextrapolate\u001b[0m\u001b[1;33m,\u001b[0m \u001b[0mout\u001b[0m\u001b[1;33m)\u001b[0m\u001b[1;33m:\u001b[0m\u001b[1;33m\u001b[0m\u001b[1;33m\u001b[0m\u001b[0m\n\u001b[0;32m    358\u001b[0m         _bspl.evaluate_spline(self.t, self.c.reshape(self.c.shape[0], -1),\n\u001b[1;32m--> 359\u001b[1;33m                 self.k, xp, nu, extrapolate, out)\n\u001b[0m\u001b[0;32m    360\u001b[0m \u001b[1;33m\u001b[0m\u001b[0m\n\u001b[0;32m    361\u001b[0m     \u001b[1;32mdef\u001b[0m \u001b[0m_ensure_c_contiguous\u001b[0m\u001b[1;33m(\u001b[0m\u001b[0mself\u001b[0m\u001b[1;33m)\u001b[0m\u001b[1;33m:\u001b[0m\u001b[1;33m\u001b[0m\u001b[1;33m\u001b[0m\u001b[0m\n",
      "\u001b[1;31mKeyboardInterrupt\u001b[0m: "
     ]
    }
   ],
   "source": [
    "Θ_lk = np.zeros(shape = (n_l, n_high_res))\n",
    "# Solve for Θ_l(k) for all k in k-array for all l in l-array\n",
    "\n",
    "def Θ_integrand(x, k, l):\n",
    "    \n",
    "    return S_spl(x, k)*j_l_splines[l].j_l_spline(ks_high_res[k]*(η_ini - η_spline(x)))\n",
    "\n",
    "for l in range(n_l):\n",
    "    print(l)    \n",
    "    for k in range(n_high_res):\n",
    "        if k%100==0:\n",
    "            print(k)\n",
    "        k0 = ks_high_res[k]\n",
    "        Θ_lk[l, k] = quad(Θ_integrand, -np.inf, 0, args=(k, l))[0]\n",
    "        "
   ]
  },
  {
   "cell_type": "code",
   "execution_count": null,
   "metadata": {},
   "outputs": [],
   "source": [
    "# Spline Θ_l(k) for all l\n"
   ]
  },
  {
   "cell_type": "code",
   "execution_count": null,
   "metadata": {},
   "outputs": [],
   "source": [
    "# Integrate to get C_l for all l\n"
   ]
  },
  {
   "cell_type": "code",
   "execution_count": null,
   "metadata": {},
   "outputs": [],
   "source": [
    "# Spline C_l\n"
   ]
  }
 ],
 "metadata": {
  "kernelspec": {
   "display_name": "Python 3",
   "language": "python",
   "name": "python3"
  },
  "language_info": {
   "codemirror_mode": {
    "name": "ipython",
    "version": 3
   },
   "file_extension": ".py",
   "mimetype": "text/x-python",
   "name": "python",
   "nbconvert_exporter": "python",
   "pygments_lexer": "ipython3",
   "version": "3.7.3"
  }
 },
 "nbformat": 4,
 "nbformat_minor": 4
}
