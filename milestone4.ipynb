{
 "cells": [
  {
   "cell_type": "code",
   "execution_count": null,
   "metadata": {},
   "outputs": [],
   "source": [
    "import import_ipynb\n",
    "#from milestone3 import *\n",
    "\n",
    "from scipy.special import spherical_jn"
   ]
  },
  {
   "cell_type": "code",
   "execution_count": 3,
   "metadata": {},
   "outputs": [],
   "source": [
    "l_array = np.array([2, 3, 4, 5, 6, 7, 8, 10, 12, 15, 20, 25, 30, 40, 50, 60, 70, 80, 90, 100, 120, 140, 160, 180, 200, 225, 250, 275, 300, 350, 400, 450, 500, 550, 600, 650, 700, 750, 800, 850, 900, 950, 1000, 1050, 1100, 1150, 1200, 1250, 1300, 1350, 1400, 1450, 1500, 1550, 1600, 1650, 1700, 1750, 1800, 1850, 1900, 1950, 2000, 2150, 2300, 2450, 2600, 2750, 2900, 3000, 3200, 3400, 3600, 3800, 4000])\n",
    "kpivot_Mpc = .05\n",
    "kpivot = kpivot_Mpc/m2Mpc\n",
    "ns = .96\n",
    "A_s = 2.0e-9\n",
    "lmax = 1500\n",
    "ls = l_array[l_array < lmax]\n",
    "n_l = len(ls)"
   ]
  },
  {
   "cell_type": "code",
   "execution_count": 71,
   "metadata": {},
   "outputs": [],
   "source": [
    "def cell_TT(l):\n",
    "    \"\"\"The CMB power specturm l(l + 1)/2π Cell in units of (μK)^2\"\"\"\n",
    "    \n",
    "    return\n",
    "\n",
    "def matter_power_spectrum(k, x):\n",
    "    \"\"\"The matter power-spectrum at wavenumber k at time x = ln(a)\"\"\"\n",
    "    \n",
    "    return\n",
    "\n",
    "def primordial_power_spectrum(k):\n",
    "    \"\"\"The primordial power-spectrum Δ(k) in P(k) = 2π^2/k^3 Δ(k)\"\"\"\n",
    "    \n",
    "    return A_s*(k/kpivot)**(ns - 1.0)"
   ]
  },
  {
   "cell_type": "code",
   "execution_count": null,
   "metadata": {},
   "outputs": [],
   "source": []
  },
  {
   "cell_type": "code",
   "execution_count": 84,
   "metadata": {},
   "outputs": [],
   "source": [
    "class Spherical_Bessel:\n",
    "    def __init__(self, j_l_spline):\n",
    "        self.j_l_spline = j_l_spline\n",
    "        \n",
    "    def make_spline(self):\n",
    "        self.j_l_spline = BSpline(j_l_args, j_l, k=spline_order)\n",
    "        return self.j_l_spline"
   ]
  },
  {
   "cell_type": "code",
   "execution_count": 86,
   "metadata": {},
   "outputs": [],
   "source": [
    "# Create splines of Bessel functions j_l needed below for all ls in 'ls'\n",
    "smplx = [1, 2, 3, 4]\n",
    "smply = [1, 2, 3, 4]\n",
    "ini_spl = interp1d(smplx, smply, kind=spline_order)\n",
    "\n",
    "n_args = 5400\n",
    "j_l_args = np.linspace(0, 3500, n_args, endpoint=True)\n",
    "\n",
    "j_l_splines = np.ndarray((n_l,), dtype=np.object)\n",
    "\n",
    "for i in range(n_l):\n",
    "    j_l = spherical_jn(ls[i], j_l_args)\n",
    "    \n",
    "    j_l_splines[i] = Spherical_Bessel(j_l_spline=ini_spl)\n",
    "    j_l_splines[i].make_spline()"
   ]
  },
  {
   "cell_type": "code",
   "execution_count": null,
   "metadata": {},
   "outputs": [],
   "source": [
    "# Set up k-array to evaluate Θ_l on\n"
   ]
  }
 ],
 "metadata": {
  "kernelspec": {
   "display_name": "Python 3",
   "language": "python",
   "name": "python3"
  },
  "language_info": {
   "codemirror_mode": {
    "name": "ipython",
    "version": 3
   },
   "file_extension": ".py",
   "mimetype": "text/x-python",
   "name": "python",
   "nbconvert_exporter": "python",
   "pygments_lexer": "ipython3",
   "version": "3.7.3"
  }
 },
 "nbformat": 4,
 "nbformat_minor": 4
}
