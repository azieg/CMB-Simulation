{
 "cells": [
  {
   "cell_type": "code",
   "execution_count": 1,
   "metadata": {},
   "outputs": [
    {
     "name": "stdout",
     "output_type": "stream",
     "text": [
      "importing Jupyter notebook from milestone2.ipynb\n",
      "importing Jupyter notebook from milestone1.ipynb\n",
      "The surface of last scattering occured at x_* = -6.98 and z_* = 1068.80.\n",
      "\n",
      "The half-way point of recombination occured at x_r = -7.16 and z_r = 1291.14.\n",
      "\n",
      "Using only the Saha equation, the half-way point of recombination occured at x_r = -7.23 and z_r = 1380.38.\n",
      "\n"
     ]
    }
   ],
   "source": [
    "import import_ipynb\n",
    "#from milestone3 import *"
   ]
  },
  {
   "cell_type": "code",
   "execution_count": null,
   "metadata": {},
   "outputs": [],
   "source": []
  }
 ],
 "metadata": {
  "kernelspec": {
   "display_name": "Python 3",
   "language": "python",
   "name": "python3"
  },
  "language_info": {
   "codemirror_mode": {
    "name": "ipython",
    "version": 3
   },
   "file_extension": ".py",
   "mimetype": "text/x-python",
   "name": "python",
   "nbconvert_exporter": "python",
   "pygments_lexer": "ipython3",
   "version": "3.7.3"
  }
 },
 "nbformat": 4,
 "nbformat_minor": 4
}
