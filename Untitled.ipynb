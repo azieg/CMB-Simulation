{
 "cells": [
  {
   "cell_type": "code",
   "execution_count": null,
   "id": "7017a6d5-7171-42ee-9e30-d857c1abe704",
   "metadata": {},
   "outputs": [],
   "source": [
    "def yderivs(x, t):\n",
    "    #global dydx\n",
    "    dydx = np.zeros(npar)\n",
    "    k0 = kcurrent\n",
    "    hp = getHPrime(t)\n",
    "    dτ = get_funct_der(x, τspl, 1)\n",
    "    R = 4.0*Ωr/(3.0*Ωb*math.exp(x))\n",
    "    ψ = -y[4] - 12.0*H0**2.0*Ωr*y[7]/(c**2.0*k0**2.0*math.exp(2.0*x))\n",
    "\n",
    "    # δ  = [0]\n",
    "    # δb = [1]\n",
    "    # v  = [2]\n",
    "    # vb = [3]\n",
    "    # Φ  = [4]\n",
    "    # θ0 = [5]\n",
    "    # θ1 = [6]\n",
    "\n",
    "    # dΦ\n",
    "    dydx[4] = ψ - c**2.0*k0**2.0*y[4]/(3.0*hp**2.0) + H0**2.0*(Ωm*math.exp(-x)*y[0] + Ωb*math.exp(-x)*y[1] + 4.0*Ωr*math.exp(-2.0*x)*y[5])/(2.0*hp**2.0)\n",
    "    \n",
    "    # dδ\n",
    "    dydx[0] = c*k0*y[2]/hp - 3.0*dydx[4]\n",
    "\n",
    "    # dδb\n",
    "    dydx[1] = c*k0*y[3]/hp - 3.0*dydx[4]\n",
    "\n",
    "    # dvb\n",
    "    dydx[3] = -y[3] - c*k0*ψ/hp + dτ*R*(3.0*y[6] + y[3])\n",
    "\n",
    "    # dv\n",
    "    dydx[2] = -y[2] - c*k0*ψ/hp\n",
    "\n",
    "    # dθ0\n",
    "    dydx[5] = -c*k0*y[6]/hp - dydx[4]\n",
    "\n",
    "    # dθ1\n",
    "    dydx[6] = c*k0*y[5]/(3.0*hp) - 2.0*c*k0*y[7]/(3.0*hp) + c*k0*ψ/(3.0*hp) + dτ*(y[6] + y[3]/3.0)\n",
    "    \n",
    "    for l in range(2, lmaxint):\n",
    "        dydx[5 + l] = l*c*k0*y[5 + l - 1]/((2.0*l + 1.0)*hp) - (l + 1.0)*c*k0*y[5 + l + 1]/((2.0*l + 1.0)*hp) + dτ*(y[5 + l] - y[5 + l]/10.0)\n",
    "    #MISSING δ IN LAST TERM\n",
    "\n",
    "    dydx[npar - 1] = c*k0*y[npar - 2]/hp - c*(npar - 1.0 + 1.0)*y[11]/(hp*getη(x)) + dτ*y[11]\n",
    "    \n",
    "    return dydx\n"
   ]
  }
 ],
 "metadata": {
  "kernelspec": {
   "display_name": "Python 3",
   "language": "python",
   "name": "python3"
  },
  "language_info": {
   "codemirror_mode": {
    "name": "ipython",
    "version": 3
   },
   "file_extension": ".py",
   "mimetype": "text/x-python",
   "name": "python",
   "nbconvert_exporter": "python",
   "pygments_lexer": "ipython3",
   "version": "3.8.5"
  }
 },
 "nbformat": 4,
 "nbformat_minor": 5
}
