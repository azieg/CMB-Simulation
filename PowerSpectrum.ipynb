{
 "cells": [
  {
   "cell_type": "code",
   "execution_count": 1,
   "metadata": {},
   "outputs": [
    {
     "name": "stdout",
     "output_type": "stream",
     "text": [
      "importing Jupyter notebook from StructureEvolution.ipynb\n",
      "importing Jupyter notebook from RecombHistory.ipynb\n",
      "importing Jupyter notebook from BackgroundCosmology.ipynb\n",
      "The surface of last scattering occured at x_* = -6.98 and z_* = 1068.80.\n",
      "\n",
      "The half-way point of recombination occured at x_r = -7.16 and z_r = 1291.14.\n",
      "\n",
      "Using only the Saha equation, the half-way point of recombination occured at x_r = -7.23 and z_r = 1383.57.\n",
      "\n",
      "------------------------------\n",
      "k: 0\n",
      "xtc: -15.0\n"
     ]
    },
    {
     "name": "stderr",
     "output_type": "stream",
     "text": [
      "BackgroundCosmology.ipynb:7: RuntimeWarning: overflow encountered in exp\n",
      "  \"outputs\": [],\n",
      "BackgroundCosmology.ipynb:10: RuntimeWarning: overflow encountered in exp\n",
      "  \"import numpy as np\\n\",\n",
      "BackgroundCosmology.ipynb:10: RuntimeWarning: invalid value encountered in double_scalars\n",
      "  \"import numpy as np\\n\",\n",
      "StructureEvolution.ipynb:14: RuntimeWarning: overflow encountered in exp\n",
      "  \"from scipy.integrate import solve_ivp\\n\",\n",
      "StructureEvolution.ipynb:25: RuntimeWarning: overflow encountered in exp\n",
      "  \"#kmin = 1.0/(η_spline(0.0)[0])#/m2Mpc)#7.256e-5\\n\",\n"
     ]
    },
    {
     "name": "stdout",
     "output_type": "stream",
     "text": [
      "------------------------------\n",
      "k: 20\n",
      "xtc: -15.0\n",
      "------------------------------\n",
      "k: 40\n",
      "xtc: -14.0\n"
     ]
    },
    {
     "name": "stderr",
     "output_type": "stream",
     "text": [
      "BackgroundCosmology.ipynb:10: RuntimeWarning: overflow encountered in double_scalars\n",
      "  \"import numpy as np\\n\",\n",
      "StructureEvolution.ipynb:30: RuntimeWarning: invalid value encountered in double_scalars\n",
      "  \"\\n\",\n"
     ]
    },
    {
     "name": "stdout",
     "output_type": "stream",
     "text": [
      "------------------------------\n",
      "k: 60\n",
      "xtc: -13.0\n",
      "------------------------------\n",
      "k: 80\n",
      "xtc: -12.0\n",
      "Time: 30.486824399999996\n"
     ]
    }
   ],
   "source": [
    "import import_ipynb\n",
    "from numba import jit\n",
    "from StructureEvolution import *\n",
    "from scipy.integrate import quad\n",
    "\n",
    "from scipy.special import spherical_jn"
   ]
  },
  {
   "cell_type": "code",
   "execution_count": 2,
   "metadata": {},
   "outputs": [
    {
     "name": "stdout",
     "output_type": "stream",
     "text": [
      "52\n"
     ]
    }
   ],
   "source": [
    "l_array = np.array([2, 3, 4, 5, 6, 7, 8, 10, 12, 15, 20, 25, 30, 40, 50, 60, 70, 80, 90, 100, 120, 140, 160, 180, 200, 225, 250, 275, 300, 350, 400, 450, 500, 550, 600, 650, 700, 750, 800, 850, 900, 950, 1000, 1050, 1100, 1150, 1200, 1250, 1300, 1350, 1400, 1450, 1500, 1550, 1600, 1650, 1700, 1750, 1800, 1850, 1900, 1950, 2000, 2150, 2300, 2450, 2600, 2750, 2900, 3000, 3200, 3400, 3600, 3800, 4000])\n",
    "#l_array = np.array([2, 140, 550, 700, 1000, 1900, 2600, 3000, 3600, 4000])\n",
    "#l_array = np.array([2, 20, 60, 160, 300, 600, 800, 1000, 1050, 1250, 1500])\n",
    "kpivot_Mpc = .05\n",
    "kpivot = kpivot_Mpc/m2Mpc\n",
    "ns = .96\n",
    "A_s = 2.0e-9\n",
    "lmax = 1500\n",
    "ls = l_array[l_array < lmax]\n",
    "#ls = l_array\n",
    "n_l = len(ls)\n",
    "np.shape(l_array)\n",
    "print(n_l)"
   ]
  },
  {
   "cell_type": "code",
   "execution_count": 3,
   "metadata": {},
   "outputs": [
    {
     "name": "stdout",
     "output_type": "stream",
     "text": [
      "[2.000e+00 3.500e+01 1.400e+02 3.150e+02 5.600e+02 8.750e+02 1.260e+03\n",
      " 1.715e+03 2.240e+03 2.835e+03 3.500e+03]\n",
      "11\n"
     ]
    },
    {
     "data": {
      "text/plain": [
       "(11,)"
      ]
     },
     "execution_count": 3,
     "metadata": {},
     "output_type": "execute_result"
    }
   ],
   "source": [
    "#plt.plot(l_array, color='b')\n",
    "#plt.plot([i for i in range(75)], [i**2/1.4 for i in range(75)], color = 'k')\n",
    "\n",
    "ggg = 0\n",
    "for i in range(75):\n",
    "    if i%7==0:\n",
    "        ggg += 1\n",
    "\n",
    "ls = np.zeros(ggg)\n",
    "ind = 0\n",
    "for i in range(75):\n",
    "    if i%7==0:\n",
    "        if ind == 0:\n",
    "            ls[ind] = 2.0\n",
    "        else:\n",
    "            ls[ind] = i**2/1.4\n",
    "        #ls[ind] = i**2/1.4\n",
    "        ind += 1\n",
    "\n",
    "n_l = len(ls)\n",
    "print(ls)\n",
    "print(n_l)\n",
    "np.shape(ls)"
   ]
  },
  {
   "cell_type": "code",
   "execution_count": 4,
   "metadata": {},
   "outputs": [],
   "source": [
    "def cell_TT(l):\n",
    "    \"\"\"The CMB power specturm l(l + 1)/2π Cell in units of (μK)^2\"\"\"\n",
    "    \n",
    "    return\n",
    "\n",
    "def matter_power_spectrum(k, x):\n",
    "    \"\"\"The matter power-spectrum at wavenumber k at time x = ln(a)\"\"\"\n",
    "    \n",
    "    return\n",
    "\n",
    "def primordial_power_spectrum(k):\n",
    "    \"\"\"The primordial power-spectrum Δ(k) in P(k) = 2π^2/k^3 Δ(k)\"\"\"\n",
    "    \n",
    "    return A_s*(k/kpivot)**(ns - 1.0)"
   ]
  },
  {
   "cell_type": "code",
   "execution_count": 3,
   "metadata": {},
   "outputs": [],
   "source": [
    "class Spherical_Bessel:\n",
    "    def __init__(self, j_l_spline):\n",
    "        self.j_l_spline = j_l_spline\n",
    "        \n",
    "    def make_spline(self):\n",
    "        self.j_l_spline = BSpline(j_l_args, j_l, k=spline_order)\n",
    "        return self.j_l_spline"
   ]
  },
  {
   "cell_type": "code",
   "execution_count": 5,
   "metadata": {},
   "outputs": [
    {
     "name": "stdout",
     "output_type": "stream",
     "text": [
      "2\n",
      "[ 4.54648713e-01  1.78965670e-01 -4.66025486e-02 ... -2.45034996e-04\n",
      " -1.06557641e-04  7.50473499e-05]\n"
     ]
    },
    {
     "data": {
      "image/png": "[encoded data removed]",
      "text/plain": [
       "<Figure size 432x288 with 1 Axes>"
      ]
     },
     "metadata": {
      "needs_background": "light"
     },
     "output_type": "display_data"
    }
   ],
   "source": [
    "# Create splines of Bessel functions j_l needed below for all ls in 'ls'\n",
    "ini_spl = interp1d([1, 2, 3, 4], [1, 2, 3, 4], kind=spline_order)\n",
    "\n",
    "n_args = 5400\n",
    "j_l_args = np.linspace(0, 3500, n_args, endpoint=True)\n",
    "\n",
    "j_l_splines = np.ndarray((n_l,), dtype=np.object)\n",
    "\n",
    "'''\n",
    "print(ls[0])\n",
    "jltest = spherical_jn(0, np.linspace(ls[0], 3500, n_args, endpoint=True))\n",
    "print(jltest)\n",
    "#plt.xlim(0, 100)\n",
    "plt.plot(j_l_args, jltest, 'b')\n",
    "jltest = spherical_jn(0, np.linspace(ls[-1], 3500, n_args, endpoint=True))\n",
    "plt.plot(j_l_args, jltest, 'r')\n",
    "plt.show()\n",
    "'''\n",
    "\n",
    "for i in range(n_l):\n",
    "    j_l = spherical_jn(ls[i], j_l_args)\n",
    "    \n",
    "    j_l_splines[i] = Spherical_Bessel(j_l_spline=ini_spl)\n",
    "    j_l_splines[i].make_spline()"
   ]
  },
  {
   "cell_type": "code",
   "execution_count": 10,
   "metadata": {},
   "outputs": [],
   "source": [
    "def source_function():\n",
    "    S_small = np.zeros(shape = (500, nk))\n",
    "    S = np.zeros(shape = (n_high_res, n_high_res))\n",
    "    \n",
    "    x_grid = np.linspace(xinit, x_end, 500)\n",
    "    \n",
    "    #for i in range(n_grid, ntotal):\n",
    "    for i in range(0, 500):\n",
    "        g = gspl(x_grid[i])[0]\n",
    "        dg = g2spl(x_grid[i])[0]\n",
    "        ddg = g22spl(x_grid[i])[0]\n",
    "        τ = τspl(x_grid[i])[0]\n",
    "        dτ = τ2spl(x_grid[i])[0]\n",
    "        ddτ = τ22spl(x_grid[i])[0]\n",
    "        hp = getHPrime(x_grid[i])\n",
    "        dhp = getdHPrime(x_grid[i])\n",
    "        ddhhp = .5*H0**2.0*((Ωb + Ωm)/np.exp(x_grid[i]) + 4.0*Ωr/np.exp(2.0*x_grid[i]) + 4.0*ΩΛ*np.exp(2.0*x_grid[i]))\n",
    "    \n",
    "        for j in range(nk):\n",
    "            Π = Θ[ntight + i, 2, j]\n",
    "            dΠ = dΘ[i, 2, j]\n",
    "            ddΠ = .4*c*ks[j]*(-dhp*Θ[ntight + i, 1, j]/hp + dΘ[i, 1, j])/hp + .3*(ddτ*Π + dτ*dΠ) - (.6*c*ks[j]/hp)*((-dhp/hp)*Θ[ntight + i, 3, j] + dΘ[i, 3, j])\n",
    "            \n",
    "            part1 = g*(Θ[ntight + i, 0, j] + Ψ[ntight + i, j] + Π/4.0)\n",
    "            part2 = np.exp(-τ)*(dΨ[i, j] - dΦ[i, j])\n",
    "            part3 = -(1.0/(c*ks[j]))*(g*vb[ntight + i, j]*dhp + g*hp*dvb[i, j] + hp*vb[ntight + i, j]*dg)\n",
    "            part4 = ((3.0/4.0)/(c**2.0*ks[j]**2.0))*(ddhhp*g*Π + 3.0*hp*dhp*(dg*Π + g*dΠ) + hp**2.0*(ddg*Π + 2.0*dg*dΠ + g*ddΠ))\n",
    "            \n",
    "            S_small[i, j] = part1 + part2 + part3 + part4       \n",
    "    \n",
    "    S_small_spl = RectBivariateSpline(x_grid, ks, S_small)\n",
    "    \n",
    "    # x-values during and after recombination\n",
    "    x_brecomb = np.linspace(-math.log(1631.4), -math.log(615.2), 2000)\n",
    "    x_arecomb = np.linspace(-math.log(615.2), 0.0, 3000, endpoint=True)\n",
    "    \n",
    "    x_final_high_res = np.concatenate((x_brecomb, x_arecomb), axis=0)\n",
    "    \n",
    "    ks_final_high_res = np.zeros(n_high_res)\n",
    "    for i in range(n_high_res):\n",
    "        ks_high_res[i] = kmin + (kmax - kmin)*(i/100.0)**2.0\n",
    "    \n",
    "    \n",
    "    for i in range(n_high_res):\n",
    "        for j in range(n_high_res):\n",
    "            #S[i, j] = S_small_spl(x_grid_high_res[i], ks_high_res[j])\n",
    "            S[i, j] = S_small_spl(x_final_high_res[i], ks_final_high_res[j])\n",
    "            \n",
    "            \n",
    "            \n",
    "    S_spl = RectBivariateSpline(x_grid_high_res, ks_high_res, S)\n",
    "        \n",
    "    return S_spl"
   ]
  },
  {
   "cell_type": "code",
   "execution_count": 11,
   "metadata": {},
   "outputs": [],
   "source": [
    "# Set up k-array to evaluate Θ_l on\n",
    "n_high_res = 800#5000\n",
    "\n",
    "ks_high_res = np.exp(np.linspace(np.log(kmin), np.log(kmax), num=n_high_res))\n",
    "\n",
    "xstartrec = -np.log(1.0 + 1630.4)\n",
    "x_grid_high_res = np.linspace(xstartrec, x_end, n_high_res, endpoint=True)\n",
    "\n",
    "S_spl = source_function()\n",
    "\n",
    "η_high_res = np.linspace(η_grid[0], η_grid[-1], n_high_res, endpoint=True)"
   ]
  },
  {
   "cell_type": "code",
   "execution_count": 12,
   "metadata": {},
   "outputs": [
    {
     "data": {
      "text/plain": [
       "array([0.2016167])"
      ]
     },
     "execution_count": 12,
     "metadata": {},
     "output_type": "execute_result"
    }
   ],
   "source": [
    "j_l_splines[0].j_l_spline(ks_high_res[0]*(η_ini - η_spline(x_grid[0])))"
   ]
  },
  {
   "cell_type": "code",
   "execution_count": 13,
   "metadata": {},
   "outputs": [
    {
     "name": "stdout",
     "output_type": "stream",
     "text": [
      "-------------\n",
      "i: 0\n",
      "l0: 2\n"
     ]
    },
    {
     "name": "stderr",
     "output_type": "stream",
     "text": [
      "C:\\Users\\Alexander\\Anaconda3\\lib\\site-packages\\ipykernel_launcher.py:23: IntegrationWarning: The integral is probably divergent, or slowly convergent.\n"
     ]
    },
    {
     "name": "stdout",
     "output_type": "stream",
     "text": [
      "-------------\n",
      "i: 1\n",
      "l0: 3\n",
      "-------------\n",
      "i: 2\n",
      "l0: 4\n",
      "-------------\n",
      "i: 3\n",
      "l0: 5\n",
      "-------------\n",
      "i: 4\n",
      "l0: 6\n",
      "-------------\n",
      "i: 5\n",
      "l0: 7\n",
      "-------------\n",
      "i: 6\n",
      "l0: 8\n",
      "-------------\n",
      "i: 7\n",
      "l0: 10\n"
     ]
    },
    {
     "name": "stderr",
     "output_type": "stream",
     "text": [
      "C:\\Users\\Alexander\\Anaconda3\\lib\\site-packages\\ipykernel_launcher.py:23: IntegrationWarning: The algorithm does not converge.  Roundoff error is detected\n",
      "  in the extrapolation table.  It is assumed that the requested tolerance\n",
      "  cannot be achieved, and that the returned result (if full_output = 1) is \n",
      "  the best which can be obtained.\n"
     ]
    },
    {
     "name": "stdout",
     "output_type": "stream",
     "text": [
      "-------------\n",
      "i: 8\n",
      "l0: 12\n",
      "-------------\n",
      "i: 9\n",
      "l0: 15\n",
      "-------------\n",
      "i: 10\n",
      "l0: 20\n",
      "-------------\n",
      "i: 11\n",
      "l0: 25\n",
      "-------------\n",
      "i: 12\n",
      "l0: 30\n",
      "-------------\n",
      "i: 13\n",
      "l0: 40\n",
      "-------------\n",
      "i: 14\n",
      "l0: 50\n",
      "-------------\n",
      "i: 15\n",
      "l0: 60\n",
      "-------------\n",
      "i: 16\n",
      "l0: 70\n",
      "-------------\n",
      "i: 17\n",
      "l0: 80\n",
      "-------------\n",
      "i: 18\n",
      "l0: 90\n",
      "-------------\n",
      "i: 19\n",
      "l0: 100\n",
      "-------------\n",
      "i: 20\n",
      "l0: 120\n",
      "-------------\n",
      "i: 21\n",
      "l0: 140\n",
      "-------------\n",
      "i: 22\n",
      "l0: 160\n",
      "-------------\n",
      "i: 23\n",
      "l0: 180\n",
      "-------------\n",
      "i: 24\n",
      "l0: 200\n",
      "-------------\n",
      "i: 25\n",
      "l0: 225\n",
      "-------------\n",
      "i: 26\n",
      "l0: 250\n",
      "-------------\n",
      "i: 27\n",
      "l0: 275\n",
      "-------------\n",
      "i: 28\n",
      "l0: 300\n",
      "-------------\n",
      "i: 29\n",
      "l0: 350\n",
      "-------------\n",
      "i: 30\n",
      "l0: 400\n",
      "-------------\n",
      "i: 31\n",
      "l0: 450\n",
      "-------------\n",
      "i: 32\n",
      "l0: 500\n",
      "-------------\n",
      "i: 33\n",
      "l0: 550\n",
      "-------------\n",
      "i: 34\n",
      "l0: 600\n",
      "-------------\n",
      "i: 35\n",
      "l0: 650\n",
      "-------------\n",
      "i: 36\n",
      "l0: 700\n",
      "-------------\n",
      "i: 37\n",
      "l0: 750\n",
      "-------------\n",
      "i: 38\n",
      "l0: 800\n",
      "-------------\n",
      "i: 39\n",
      "l0: 850\n",
      "-------------\n",
      "i: 40\n",
      "l0: 900\n",
      "-------------\n",
      "i: 41\n",
      "l0: 950\n",
      "-------------\n",
      "i: 42\n",
      "l0: 1000\n",
      "-------------\n",
      "i: 43\n",
      "l0: 1050\n",
      "-------------\n",
      "i: 44\n",
      "l0: 1100\n",
      "-------------\n",
      "i: 45\n",
      "l0: 1150\n",
      "-------------\n",
      "i: 46\n",
      "l0: 1200\n",
      "-------------\n",
      "i: 47\n",
      "l0: 1250\n",
      "-------------\n",
      "i: 48\n",
      "l0: 1300\n",
      "-------------\n",
      "i: 49\n",
      "l0: 1350\n",
      "-------------\n",
      "i: 50\n",
      "l0: 1400\n",
      "-------------\n",
      "i: 51\n",
      "l0: 1450\n",
      "Time: 1763.1251961\n"
     ]
    }
   ],
   "source": [
    "Θ_lk = np.zeros(shape = (n_l, n_high_res))\n",
    "\n",
    "# Solve for Θ_l(k) for all k in k-array for all l in l-array\n",
    "def Θ_integrand(x, k, l):\n",
    "    return S_spl(x, k)*j_l_splines[l].j_l_spline(ks_high_res[k]*(η_ini - η_spline(x)))\n",
    "\n",
    "C_l = np.zeros(n_l)\n",
    "C_ls = np.zeros(n_l)\n",
    "start = timeit.default_timer()\n",
    "for l in range(n_l):\n",
    "    print('-------------')\n",
    "    print('i:', l)\n",
    "    \n",
    "    l0 = ls[l]\n",
    "    print('l0:', l0)    \n",
    "    \n",
    "    for k in range(n_high_res):\n",
    "        #if k%500==0:\n",
    "        #    print('---------------')\n",
    "        #    \n",
    "        #    print(k)\n",
    "        k0 = ks_high_res[k]\n",
    "        Θ_lk[l, k] = quad(Θ_integrand, -np.inf, 0, args=(k, l))[0]\n",
    "        \n",
    "        #C_l[l] = C_l[l] + (c*k0/H0)**(ns - 1.0) * (Θ_lk[l, k]**2.0) * ((1.0/4999.0)/(k0))\n",
    "        \n",
    "    #C_ls[l] = C_l[l] * (ls[l] * (ls[l] + 1.0))/(2.0*np.pi)\n",
    "    \n",
    "    \n",
    "stop = timeit.default_timer()\n",
    "print('Time:', stop - start)"
   ]
  },
  {
   "cell_type": "code",
   "execution_count": 14,
   "metadata": {},
   "outputs": [],
   "source": [
    "# Spline Θ_l(k) for all l\n",
    "Θlk_spl = RectBivariateSpline(ls, ks_high_res, Θ_lk)"
   ]
  },
  {
   "cell_type": "code",
   "execution_count": 15,
   "metadata": {},
   "outputs": [
    {
     "name": "stderr",
     "output_type": "stream",
     "text": [
      "C:\\Users\\Alexander\\Anaconda3\\lib\\site-packages\\ipykernel_launcher.py:9: IntegrationWarning: The maximum number of subdivisions (50) has been achieved.\n",
      "  If increasing the limit yields no improvement it is advised to analyze \n",
      "  the integrand in order to determine the difficulties.  If the position of a \n",
      "  local difficulty can be determined (singularity, discontinuity) one will \n",
      "  probably gain from splitting up the interval and calling the integrator \n",
      "  on the subranges.  Perhaps a special-purpose integrator should be used.\n",
      "  if __name__ == '__main__':\n"
     ]
    },
    {
     "name": "stdout",
     "output_type": "stream",
     "text": [
      "[1.43106738e+122 9.18815388e+123 1.85550013e+125 2.82380635e+126\n",
      " 4.02334988e+127 5.61961865e+128 2.29114369e+129 1.64994651e+130\n",
      " 9.62361114e+130 2.94723091e+131 1.01817676e+163 9.62361114e+130\n",
      " 1.02715084e+163 6.35308704e+130 3.75922310e+128 1.07049752e+129\n",
      " 1.71943759e+127 4.44205074e+127 5.87378610e+128 3.75922310e+128\n",
      " 0.00000000e+000 8.09294854e+162 6.01475696e+129 2.16531251e+131\n",
      " 6.06472796e+162 0.00000000e+000 2.40590278e+130 9.28075052e+162\n",
      " 2.16531251e+131 0.00000000e+000 4.69088922e+162 6.43674984e+162\n",
      " 4.97157255e+130 4.93985411e+129 1.55104664e+129 1.58064502e+128\n",
      " 1.13589501e+127 1.10429258e+126 3.16777185e+126 6.63095383e+126\n",
      " 4.49711748e+126 0.00000000e+000 2.34951444e+127 0.00000000e+000\n",
      " 1.77125299e+161 9.39805775e+127 1.35332032e+130 9.62361114e+130\n",
      " 5.94508236e+162 7.36807728e+130 1.12776145e+160 3.63162639e+126]\n",
      "[1.3665686866890774e+122, 1.7548081296815303e+124, 5.906240358438353e+125, 1.3482682185222674e+127, 2.6894112901805333e+128, 5.0085844865263506e+129, 2.6254572728569686e+130, 2.8885685796082346e+131, 2.3893666419285428e+132, 1.1257592832163329e+133, 6.8060102724978e+164, 9.955694341368928e+132, 1.5203280401184322e+165, 1.6582453387342625e+133, 1.5256622938996856e+131, 6.235723947373633e+131, 1.360075250177879e+130, 4.581193671112386e+130, 7.656356732253938e+131, 6.042819281720323e+131, 0.0, 2.5425766772408103e+166, 2.465948906092919e+133, 1.1227725749139222e+135, 3.8802303606954967e+166, 0.0, 2.4027685381573087e+134, 1.1211016862211305e+167, 3.1119203043194346e+135, 0.0, 1.1975114438506335e+167, 2.0791021048411184e+167, 1.9820821180879405e+135, 2.382585764815306e+134, 8.90165404004465e+133, 1.064507739181913e+133, 8.871036820371886e+131, 9.899322795500938e+130, 3.230699240036611e+131, 7.633867572009172e+131, 5.803923306529518e+131, 0.0, 3.743107735768591e+132, 0.0, 3.414135323508796e+166, 1.9798459758042342e+133, 3.104166350072792e+135, 2.395110311740871e+136, 1.6002898704113577e+168, 2.1387667382230296e+136, 3.52049350017792e+165, 1.2160647767585932e+132]\n"
     ]
    }
   ],
   "source": [
    "def C_l_integrand(x, l0):\n",
    "    \n",
    "    return (A_s/x)*((x/kpivot)**(ns - 1.0))*Θlk_spl(l0, x)**2.0\n",
    "\n",
    "C_l = np.zeros(n_l)\n",
    "\n",
    "for l in range(n_l):\n",
    "    l0 = ls[l]\n",
    "    C_l[l] = (4.0*np.pi)*quad(C_l_integrand, 0, np.inf, args=(l0))[0]\n",
    "    \n",
    "print(C_l)\n",
    "\n",
    "C_ls = [(ls[l]*(ls[l] + 1.0)/(2.0*np.pi))*C_l[l] for l in range(n_l)]\n",
    "\n",
    "print(C_ls)"
   ]
  },
  {
   "cell_type": "code",
   "execution_count": 16,
   "metadata": {},
   "outputs": [
    {
     "name": "stderr",
     "output_type": "stream",
     "text": [
      "C:\\Users\\Alexander\\Anaconda3\\lib\\site-packages\\ipykernel_launcher.py:10: IntegrationWarning: The maximum number of subdivisions (50) has been achieved.\n",
      "  If increasing the limit yields no improvement it is advised to analyze \n",
      "  the integrand in order to determine the difficulties.  If the position of a \n",
      "  local difficulty can be determined (singularity, discontinuity) one will \n",
      "  probably gain from splitting up the interval and calling the integrator \n",
      "  on the subranges.  Perhaps a special-purpose integrator should be used.\n",
      "  # Remove the CWD from sys.path while we load stuff.\n"
     ]
    },
    {
     "name": "stdout",
     "output_type": "stream",
     "text": [
      "[0.00000000e+000 0.00000000e+000 0.00000000e+000 0.00000000e+000\n",
      " 0.00000000e+000 0.00000000e+000 0.00000000e+000 0.00000000e+000\n",
      " 0.00000000e+000 0.00000000e+000 0.00000000e+000 0.00000000e+000\n",
      " 0.00000000e+000 0.00000000e+000 0.00000000e+000 0.00000000e+000\n",
      " 0.00000000e+000 0.00000000e+000 0.00000000e+000 0.00000000e+000\n",
      " 0.00000000e+000 0.00000000e+000 0.00000000e+000 0.00000000e+000\n",
      " 0.00000000e+000 0.00000000e+000 0.00000000e+000 0.00000000e+000\n",
      " 0.00000000e+000 0.00000000e+000 0.00000000e+000 0.00000000e+000\n",
      " 0.00000000e+000 0.00000000e+000 0.00000000e+000 0.00000000e+000\n",
      " 0.00000000e+000 0.00000000e+000 0.00000000e+000 0.00000000e+000\n",
      " 0.00000000e+000 0.00000000e+000 0.00000000e+000 0.00000000e+000\n",
      " 0.00000000e+000 0.00000000e+000 0.00000000e+000 0.00000000e+000\n",
      " 0.00000000e+000 0.00000000e+000 0.00000000e+000 2.55371135e+165]\n"
     ]
    }
   ],
   "source": [
    "# Integrate to get C_l for all l\n",
    "\n",
    "def Cl_integrand(x, l):\n",
    "    \n",
    "    return ((c*x/H0)**(ns - 1.0))*(Θlk_spl(l, x)**2.0)*(1.0/x)\n",
    "\n",
    "C_l = np.zeros(n_l)\n",
    "\n",
    "for l in range(n_l):\n",
    "    C_l[i] = quad(Cl_integrand, 0, np.inf, args=(l))[0]\n",
    "\n",
    "print(C_l)"
   ]
  },
  {
   "cell_type": "code",
   "execution_count": 17,
   "metadata": {},
   "outputs": [
    {
     "name": "stdout",
     "output_type": "stream",
     "text": [
      "[1.3665686866890774e+122, 1.7548081296815303e+124, 5.906240358438353e+125, 1.3482682185222674e+127, 2.6894112901805333e+128, 5.0085844865263506e+129, 2.6254572728569686e+130, 2.8885685796082346e+131, 2.3893666419285428e+132, 1.1257592832163329e+133, 6.8060102724978e+164, 9.955694341368928e+132, 1.5203280401184322e+165, 1.6582453387342625e+133, 1.5256622938996856e+131, 6.235723947373633e+131, 1.360075250177879e+130, 4.581193671112386e+130, 7.656356732253938e+131, 6.042819281720323e+131, 0.0, 2.5425766772408103e+166, 2.465948906092919e+133, 1.1227725749139222e+135, 3.8802303606954967e+166, 0.0, 2.4027685381573087e+134, 1.1211016862211305e+167, 3.1119203043194346e+135, 0.0, 1.1975114438506335e+167, 2.0791021048411184e+167, 1.9820821180879405e+135, 2.382585764815306e+134, 8.90165404004465e+133, 1.064507739181913e+133, 8.871036820371886e+131, 9.899322795500938e+130, 3.230699240036611e+131, 7.633867572009172e+131, 5.803923306529518e+131, 0.0, 3.743107735768591e+132, 0.0, 3.414135323508796e+166, 1.9798459758042342e+133, 3.104166350072792e+135, 2.395110311740871e+136, 1.6002898704113577e+168, 2.1387667382230296e+136, 3.52049350017792e+165, 1.2160647767585932e+132]\n"
     ]
    }
   ],
   "source": [
    "# Spline C_l\n",
    "print(C_ls)\n",
    "C_ls_spl = BSpline(ls, C_ls, k=spline_order)"
   ]
  },
  {
   "cell_type": "code",
   "execution_count": 22,
   "metadata": {},
   "outputs": [
    {
     "data": {
      "image/png": "[encoded data removed]",
      "text/plain": [
       "<Figure size 1100x700 with 1 Axes>"
      ]
     },
     "metadata": {
      "needs_background": "light"
     },
     "output_type": "display_data"
    }
   ],
   "source": [
    "#Pk = np.array([matter_power_spectrum(k, x) for k in ks]).flatten()\n",
    "#plt.xscale('log')\n",
    "#plt.scale('log')\n",
    "#plt.plot(ks*m2Mpc, Pk/m2Mpc**2.0)\n",
    "#plt.show()\n",
    "ls_plot = np.exp( np.linspace(np.log(2.0), np.log(lmax), 200) )\n",
    "plt.figure(figsize=(11, 7), dpi = 100)\n",
    "plt.title('CMB Angular Power-Spectrum')\n",
    "plt.xlabel('Multipole $l$')\n",
    "plt.ylabel('$l$($l$+1)/2π $C_l$ [μK$^2$]')\n",
    "#plt.xscale('log')\n",
    "#plt.yscale('log')\n",
    "for i in range(n_l):\n",
    "    data_C_ls = C_ls_spl(ls_plot)\n",
    "plt.plot(ls_plot, data_C_ls)\n",
    "plt.show()"
   ]
  },
  {
   "cell_type": "code",
   "execution_count": null,
   "metadata": {},
   "outputs": [],
   "source": []
  }
 ],
 "metadata": {
  "kernelspec": {
   "display_name": "Python 3",
   "language": "python",
   "name": "python3"
  },
  "language_info": {
   "codemirror_mode": {
    "name": "ipython",
    "version": 3
   },
   "file_extension": ".py",
   "mimetype": "text/x-python",
   "name": "python",
   "nbconvert_exporter": "python",
   "pygments_lexer": "ipython3",
   "version": "3.7.3"
  }
 },
 "nbformat": 4,
 "nbformat_minor": 4
}
