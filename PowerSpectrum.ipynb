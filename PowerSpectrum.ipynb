{
 "cells": [
  {
   "cell_type": "code",
   "execution_count": 1,
   "metadata": {},
   "outputs": [
    {
     "name": "stdout",
     "output_type": "stream",
     "text": [
      "importing Jupyter notebook from StructureEvolution.ipynb\n",
      "importing Jupyter notebook from RecombHistory.ipynb\n",
      "importing Jupyter notebook from BackgroundCosmology.ipynb\n",
      "The surface of last scattering occured at x_* = -6.98 and z_* = 1068.80.\n",
      "\n",
      "The half-way point of recombination occured at x_r = -7.16 and z_r = 1291.14.\n",
      "\n",
      "Using only the Saha equation, the half-way point of recombination occured at x_r = -7.23 and z_r = 1383.57.\n",
      "\n",
      "------------------------------\n",
      "k: 0\n",
      "xtc: -15.0\n"
     ]
    },
    {
     "name": "stderr",
     "output_type": "stream",
     "text": [
      "BackgroundCosmology.ipynb:7: RuntimeWarning: overflow encountered in exp\n",
      "  \"outputs\": [],\n",
      "BackgroundCosmology.ipynb:10: RuntimeWarning: overflow encountered in exp\n",
      "  \"import numpy as np\\n\",\n",
      "BackgroundCosmology.ipynb:10: RuntimeWarning: invalid value encountered in double_scalars\n",
      "  \"import numpy as np\\n\",\n",
      "StructureEvolution.ipynb:14: RuntimeWarning: overflow encountered in exp\n",
      "  \"from scipy.integrate import solve_ivp\\n\",\n",
      "StructureEvolution.ipynb:25: RuntimeWarning: overflow encountered in exp\n",
      "  \"#kmin = 1.0/(η_spline(0.0)[0])#/m2Mpc)#7.256e-5\\n\",\n"
     ]
    },
    {
     "name": "stdout",
     "output_type": "stream",
     "text": [
      "------------------------------\n",
      "k: 20\n",
      "xtc: -15.0\n",
      "------------------------------\n",
      "k: 40\n",
      "xtc: -14.0\n"
     ]
    },
    {
     "name": "stderr",
     "output_type": "stream",
     "text": [
      "BackgroundCosmology.ipynb:10: RuntimeWarning: overflow encountered in double_scalars\n",
      "  \"import numpy as np\\n\",\n",
      "StructureEvolution.ipynb:30: RuntimeWarning: invalid value encountered in double_scalars\n",
      "  \"\\n\",\n"
     ]
    },
    {
     "name": "stdout",
     "output_type": "stream",
     "text": [
      "------------------------------\n",
      "k: 60\n",
      "xtc: -13.0\n",
      "------------------------------\n",
      "k: 80\n",
      "xtc: -12.0\n",
      "Time: 30.3546634\n"
     ]
    }
   ],
   "source": [
    "import import_ipynb\n",
    "from numba import jit\n",
    "from StructureEvolution import *\n",
    "from scipy.integrate import quad\n",
    "\n",
    "from scipy.special import spherical_jn"
   ]
  },
  {
   "cell_type": "code",
   "execution_count": 2,
   "metadata": {},
   "outputs": [
    {
     "name": "stdout",
     "output_type": "stream",
     "text": [
      "52\n"
     ]
    }
   ],
   "source": [
    "l_array = np.array([2, 3, 4, 5, 6, 7, 8, 10, 12, 15, 20, 25, 30, 40, 50, 60, 70, 80, 90, 100, 120, 140, 160, 180, 200, 225, 250, 275, 300, 350, 400, 450, 500, 550, 600, 650, 700, 750, 800, 850, 900, 950, 1000, 1050, 1100, 1150, 1200, 1250, 1300, 1350, 1400, 1450, 1500, 1550, 1600, 1650, 1700, 1750, 1800, 1850, 1900, 1950, 2000, 2150, 2300, 2450, 2600, 2750, 2900, 3000, 3200, 3400, 3600, 3800, 4000])\n",
    "#l_array = np.array([2, 140, 550, 700, 1000, 1900, 2600, 3000, 3600, 4000])\n",
    "#l_array = np.array([2, 20, 60, 160, 300, 600, 800, 1000, 1050, 1250, 1500])\n",
    "kpivot_Mpc = .05\n",
    "kpivot = kpivot_Mpc/m2Mpc\n",
    "ns = .96\n",
    "A_s = 2.0e-9\n",
    "lmax = 1500\n",
    "ls = l_array[l_array < lmax]\n",
    "#ls = l_array\n",
    "n_l = len(ls)\n",
    "np.shape(l_array)\n",
    "print(n_l)"
   ]
  },
  {
   "cell_type": "code",
   "execution_count": 3,
   "metadata": {},
   "outputs": [
    {
     "name": "stdout",
     "output_type": "stream",
     "text": [
      "[2.000e+00 3.500e+01 1.400e+02 3.150e+02 5.600e+02 8.750e+02 1.260e+03\n",
      " 1.715e+03 2.240e+03 2.835e+03 3.500e+03]\n",
      "11\n"
     ]
    },
    {
     "data": {
      "text/plain": [
       "(11,)"
      ]
     },
     "execution_count": 3,
     "metadata": {},
     "output_type": "execute_result"
    }
   ],
   "source": [
    "#plt.plot(l_array, color='b')\n",
    "#plt.plot([i for i in range(75)], [i**2/1.4 for i in range(75)], color = 'k')\n",
    "\n",
    "ggg = 0\n",
    "for i in range(75):\n",
    "    if i%7==0:\n",
    "        ggg += 1\n",
    "\n",
    "ls = np.zeros(ggg)\n",
    "ind = 0\n",
    "for i in range(75):\n",
    "    if i%7==0:\n",
    "        if ind == 0:\n",
    "            ls[ind] = 2.0\n",
    "        else:\n",
    "            ls[ind] = i**2/1.4\n",
    "        #ls[ind] = i**2/1.4\n",
    "        ind += 1\n",
    "\n",
    "n_l = len(ls)\n",
    "print(ls)\n",
    "print(n_l)\n",
    "np.shape(ls)"
   ]
  },
  {
   "cell_type": "code",
   "execution_count": 3,
   "metadata": {},
   "outputs": [],
   "source": [
    "def cell_TT(l):\n",
    "    \"\"\"The CMB power specturm l(l + 1)/2π Cell in units of (μK)^2\"\"\"\n",
    "    \n",
    "    return\n",
    "\n",
    "def matter_power_spectrum(k, x):\n",
    "    \"\"\"The matter power-spectrum at wavenumber k at time x = ln(a)\"\"\"\n",
    "    \n",
    "    return\n",
    "\n",
    "def primordial_power_spectrum(k):\n",
    "    \"\"\"The primordial power-spectrum Δ(k) in P(k) = 2π^2/k^3 Δ(k)\"\"\"\n",
    "    \n",
    "    return A_s*(k/kpivot)**(ns - 1.0)"
   ]
  },
  {
   "cell_type": "code",
   "execution_count": 4,
   "metadata": {},
   "outputs": [],
   "source": [
    "class Spherical_Bessel:\n",
    "    def __init__(self, j_l_spline):\n",
    "        self.j_l_spline = j_l_spline\n",
    "        \n",
    "    def make_spline(self):\n",
    "        self.j_l_spline = BSpline(j_l_args, j_l, k=spline_order)\n",
    "        return self.j_l_spline"
   ]
  },
  {
   "cell_type": "code",
   "execution_count": 5,
   "metadata": {},
   "outputs": [],
   "source": [
    "# Create splines of Bessel functions j_l needed below for all ls in 'ls'\n",
    "ini_spl = interp1d([1, 2, 3, 4], [1, 2, 3, 4], kind=spline_order)\n",
    "\n",
    "n_args = 5400\n",
    "j_l_args = np.linspace(0, 3500, n_args, endpoint=True)\n",
    "\n",
    "j_l_splines = np.ndarray((n_l,), dtype=np.object)\n",
    "\n",
    "for i in range(n_l):\n",
    "    j_l = spherical_jn(ls[i], j_l_args)\n",
    "    \n",
    "    j_l_splines[i] = Spherical_Bessel(j_l_spline=ini_spl)\n",
    "    j_l_splines[i].make_spline()"
   ]
  },
  {
   "cell_type": "code",
   "execution_count": 8,
   "metadata": {},
   "outputs": [],
   "source": [
    "def source_function():\n",
    "    S_small = np.zeros(shape = (ntotal, nk))\n",
    "    S = np.zeros(shape = (n_high_res, n_high_res))\n",
    "    \n",
    "    x_grid = np.linspace(xinit, x_end, ntotal)\n",
    "    \n",
    "    for i in range(n_grid, ntotal):\n",
    "        g = gspl(x_grid[i])[0]\n",
    "        dg = g2spl(x_grid[i])[0]\n",
    "        ddg = g22spl(x_grid[i])[0]\n",
    "        τ = τspl(x_grid[i])[0]\n",
    "        dτ = τ2spl(x_grid[i])[0]\n",
    "        ddτ = τ22spl(x_grid[i])[0]\n",
    "        hp = getHPrime(x_grid[i])\n",
    "        dhp = getdHPrime(x_grid[i])\n",
    "        ddhhp = .5*H0**2.0*((Ωb + Ωm)/np.exp(x_grid[i]) + 4.0*Ωr/np.exp(2.0*x_grid[i]) + 4.0*ΩΛ*np.exp(2.0*x_grid[i]))\n",
    "    \n",
    "        for j in range(nk):\n",
    "            Π = Θ[i, 2, j]\n",
    "            dΠ = dΘ[i, 2, j]\n",
    "            ddΠ = .4*c*ks[j]*(-dhp*Θ[i, 1, j]/hp + dΘ[i, 1, j])/hp + .3*(ddτ*Π + dτ*dΠ) - (.6*c*ks[j]/hp)*((-dhp/hp)*Θ[i, 3, j] + dΘ[i, 3, j])\n",
    "            \n",
    "            part1 = g*(Θ[i, 0, j] + Ψ[i, j] + Π/4.0)\n",
    "            part2 = np.exp(-τ)*(dΨ[i, j] - dΦ[i, j])\n",
    "            part3 = -(1.0/(c*ks[j]))*(g*vb[i, j]*dhp + g*hp*dvb[i, j] + hp*vb[i, j]*dg)\n",
    "            part4 = ((3.0/4.0)/(c**2.0*ks[j]**2.0))*(ddhhp*g*Π + 3.0*hp*dhp*(dg*Π + g*dΠ) + hp**2.0*(ddg*Π + 2.0*dg*dΠ + g*ddΠ))\n",
    "            \n",
    "            S_small[i, j] = part1 + part2 + part3 + part4       \n",
    "    \n",
    "    S_small_spl = RectBivariateSpline(x_grid, ks, S_small)\n",
    "    \n",
    "    for i in range(n_high_res):\n",
    "        \n",
    "        for j in range(n_high_res):\n",
    "            S[i, j] = S_small_spl(x_grid_high_res[i], ks_high_res[j])\n",
    "        \n",
    "    S_spl = RectBivariateSpline(x_grid_high_res, ks_high_res, S)\n",
    "        \n",
    "    return S_spl"
   ]
  },
  {
   "cell_type": "code",
   "execution_count": 11,
   "metadata": {},
   "outputs": [],
   "source": [
    "# Set up k-array to evaluate Θ_l on\n",
    "n_high_res = 1000#5000\n",
    "\n",
    "\n",
    "ks_high_res = np.exp(np.linspace(np.log(kmin), np.log(kmax), num=n_high_res))\n",
    "\n",
    "xstartrec = -np.log(1.0 + 1630.4)\n",
    "x_grid_high_res = np.linspace(xstartrec, x_end, n_high_res, endpoint=True)\n",
    "\n",
    "S_spl = source_function()\n",
    "\n",
    "η_high_res = np.linspace(η_grid[0], η_grid[-1], n_high_res, endpoint=True)"
   ]
  },
  {
   "cell_type": "code",
   "execution_count": 10,
   "metadata": {},
   "outputs": [
    {
     "data": {
      "text/plain": [
       "array([0.2016167])"
      ]
     },
     "execution_count": 10,
     "metadata": {},
     "output_type": "execute_result"
    }
   ],
   "source": [
    "j_l_splines[0].j_l_spline(ks_high_res[0]*(η_ini - η_spline(x_grid[0])))"
   ]
  },
  {
   "cell_type": "code",
   "execution_count": 12,
   "metadata": {},
   "outputs": [
    {
     "name": "stdout",
     "output_type": "stream",
     "text": [
      "-------------\n",
      "i: 0\n",
      "l0: 2\n"
     ]
    },
    {
     "name": "stderr",
     "output_type": "stream",
     "text": [
      "C:\\Users\\Alexander\\Anaconda3\\lib\\site-packages\\ipykernel_launcher.py:23: IntegrationWarning: The maximum number of subdivisions (50) has been achieved.\n",
      "  If increasing the limit yields no improvement it is advised to analyze \n",
      "  the integrand in order to determine the difficulties.  If the position of a \n",
      "  local difficulty can be determined (singularity, discontinuity) one will \n",
      "  probably gain from splitting up the interval and calling the integrator \n",
      "  on the subranges.  Perhaps a special-purpose integrator should be used.\n",
      "C:\\Users\\Alexander\\Anaconda3\\lib\\site-packages\\ipykernel_launcher.py:23: IntegrationWarning: The integral is probably divergent, or slowly convergent.\n"
     ]
    },
    {
     "name": "stdout",
     "output_type": "stream",
     "text": [
      "-------------\n",
      "i: 1\n",
      "l0: 3\n",
      "-------------\n",
      "i: 2\n",
      "l0: 4\n",
      "-------------\n",
      "i: 3\n",
      "l0: 5\n",
      "-------------\n",
      "i: 4\n",
      "l0: 6\n",
      "-------------\n",
      "i: 5\n",
      "l0: 7\n"
     ]
    },
    {
     "name": "stderr",
     "output_type": "stream",
     "text": [
      "C:\\Users\\Alexander\\Anaconda3\\lib\\site-packages\\ipykernel_launcher.py:23: IntegrationWarning: The algorithm does not converge.  Roundoff error is detected\n",
      "  in the extrapolation table.  It is assumed that the requested tolerance\n",
      "  cannot be achieved, and that the returned result (if full_output = 1) is \n",
      "  the best which can be obtained.\n"
     ]
    },
    {
     "name": "stdout",
     "output_type": "stream",
     "text": [
      "-------------\n",
      "i: 6\n",
      "l0: 8\n",
      "-------------\n",
      "i: 7\n",
      "l0: 10\n",
      "-------------\n",
      "i: 8\n",
      "l0: 12\n",
      "-------------\n",
      "i: 9\n",
      "l0: 15\n",
      "-------------\n",
      "i: 10\n",
      "l0: 20\n",
      "-------------\n",
      "i: 11\n",
      "l0: 25\n",
      "-------------\n",
      "i: 12\n",
      "l0: 30\n",
      "-------------\n",
      "i: 13\n",
      "l0: 40\n",
      "-------------\n",
      "i: 14\n",
      "l0: 50\n",
      "-------------\n",
      "i: 15\n",
      "l0: 60\n",
      "-------------\n",
      "i: 16\n",
      "l0: 70\n",
      "-------------\n",
      "i: 17\n",
      "l0: 80\n",
      "-------------\n",
      "i: 18\n",
      "l0: 90\n",
      "-------------\n",
      "i: 19\n",
      "l0: 100\n",
      "-------------\n",
      "i: 20\n",
      "l0: 120\n",
      "-------------\n",
      "i: 21\n",
      "l0: 140\n",
      "-------------\n",
      "i: 22\n",
      "l0: 160\n",
      "-------------\n",
      "i: 23\n",
      "l0: 180\n",
      "-------------\n",
      "i: 24\n",
      "l0: 200\n",
      "-------------\n",
      "i: 25\n",
      "l0: 225\n",
      "-------------\n",
      "i: 26\n",
      "l0: 250\n",
      "-------------\n",
      "i: 27\n",
      "l0: 275\n",
      "-------------\n",
      "i: 28\n",
      "l0: 300\n",
      "-------------\n",
      "i: 29\n",
      "l0: 350\n",
      "-------------\n",
      "i: 30\n",
      "l0: 400\n",
      "-------------\n",
      "i: 31\n",
      "l0: 450\n",
      "-------------\n",
      "i: 32\n",
      "l0: 500\n",
      "-------------\n",
      "i: 33\n",
      "l0: 550\n",
      "-------------\n",
      "i: 34\n",
      "l0: 600\n",
      "-------------\n",
      "i: 35\n",
      "l0: 650\n",
      "-------------\n",
      "i: 36\n",
      "l0: 700\n",
      "-------------\n",
      "i: 37\n",
      "l0: 750\n",
      "-------------\n",
      "i: 38\n",
      "l0: 800\n",
      "-------------\n",
      "i: 39\n",
      "l0: 850\n",
      "-------------\n",
      "i: 40\n",
      "l0: 900\n",
      "-------------\n",
      "i: 41\n",
      "l0: 950\n",
      "-------------\n",
      "i: 42\n",
      "l0: 1000\n",
      "-------------\n",
      "i: 43\n",
      "l0: 1050\n",
      "-------------\n",
      "i: 44\n",
      "l0: 1100\n",
      "-------------\n",
      "i: 45\n",
      "l0: 1150\n",
      "-------------\n",
      "i: 46\n",
      "l0: 1200\n",
      "-------------\n",
      "i: 47\n",
      "l0: 1250\n",
      "-------------\n",
      "i: 48\n",
      "l0: 1300\n",
      "-------------\n",
      "i: 49\n",
      "l0: 1350\n",
      "-------------\n",
      "i: 50\n",
      "l0: 1400\n",
      "-------------\n",
      "i: 51\n",
      "l0: 1450\n",
      "Time: 1150.59383\n"
     ]
    }
   ],
   "source": [
    "Θ_lk = np.zeros(shape = (n_l, n_high_res))\n",
    "\n",
    "# Solve for Θ_l(k) for all k in k-array for all l in l-array\n",
    "def Θ_integrand(x, k, l):\n",
    "    return S_spl(x, k)*j_l_splines[l].j_l_spline(ks_high_res[k]*(η_ini - η_spline(x)))\n",
    "\n",
    "C_l = np.zeros(n_l)\n",
    "C_ls = np.zeros(n_l)\n",
    "start = timeit.default_timer()\n",
    "for l in range(n_l):\n",
    "    print('-------------')\n",
    "    print('i:', l)\n",
    "    \n",
    "    l0 = ls[l]\n",
    "    print('l0:', l0)    \n",
    "    \n",
    "    for k in range(n_high_res):\n",
    "        #if k%500==0:\n",
    "        #    print('---------------')\n",
    "        #    \n",
    "        #    print(k)\n",
    "        k0 = ks_high_res[k]\n",
    "        Θ_lk[l, k] = quad(Θ_integrand, -np.inf, 0, args=(k, l))[0]\n",
    "        \n",
    "        #C_l[l] = C_l[l] + (c*k0/H0)**(ns - 1.0) * (Θ_lk[l, k]**2.0) * ((1.0/4999.0)/(k0))\n",
    "        \n",
    "    #C_ls[l] = C_l[l] * (ls[l] * (ls[l] + 1.0))/(2.0*np.pi)\n",
    "    \n",
    "    \n",
    "stop = timeit.default_timer()\n",
    "print('Time:', stop - start)"
   ]
  },
  {
   "cell_type": "code",
   "execution_count": 13,
   "metadata": {},
   "outputs": [],
   "source": [
    "# Spline Θ_l(k) for all l\n",
    "Θlk_spl = RectBivariateSpline(ls, ks_high_res, Θ_lk)"
   ]
  },
  {
   "cell_type": "code",
   "execution_count": 20,
   "metadata": {},
   "outputs": [
    {
     "name": "stdout",
     "output_type": "stream",
     "text": [
      "[ 1.01570324e-03  8.30677454e-05  3.78669020e-05  2.79679779e-06\n",
      "  9.92811063e-08 -3.23796162e-08  3.24477717e-10  2.64581967e-10\n",
      "  1.29075809e-14  1.21937569e-21  2.24890918e-34  1.02261117e-40\n",
      "  2.66074305e-37  2.48513115e-37  1.99265178e-37  1.16409592e-37\n",
      "  3.01478255e-38  2.31728113e-39  8.20023160e-38  2.20765391e-37\n",
      "  1.19634803e-37  1.31467074e-37  9.35761399e-38  2.55136101e-37\n",
      "  4.00878868e-38  2.42201855e-37  9.35537211e-38  2.10137103e-38\n",
      "  1.47562807e-37  1.46153537e-37  1.04945475e-37  6.00527366e-38\n",
      "  2.69199159e-37  2.83141133e-37  6.26050015e-38  1.79706515e-37\n",
      "  9.31001902e-67  2.37070426e-68  4.21458534e-70  1.48169016e-71\n",
      "  7.78144572e-73  1.08683002e-72  1.83131261e-74  1.57005539e-78\n",
      "  0.00000000e+00  1.41304985e-77  1.85524123e-79  1.53325722e-81\n",
      "  4.69560022e-81  1.34758935e-81  9.58285760e-83  0.00000000e+00]\n",
      "[0.0009699251439105552, 0.00015864770749420375, 0.0001205340925338059, 1.3353725769711667e-05, 6.636453102615512e-07, -2.8858905445338045e-07, 3.7182407504867044e-09, 4.6320480755082534e-09, 3.2047162858369884e-13, 4.657672036833285e-20, 1.5032850543240262e-32, 1.0578985501249125e-38, 3.938274800884757e-35, 6.486542867062685e-35, 8.087079724785421e-35, 6.780941277689594e-35, 2.3846932034816612e-35, 2.3898677142112648e-36, 1.0688829549148835e-34, 3.5487262346015866e-34, 2.7646762858948062e-34, 4.130325476409315e-34, 3.83646390556964e-34, 1.322949070185435e-33, 2.564834504426436e-34, 1.9601466053285695e-33, 9.343184562747668e-34, 2.5384268252460865e-34, 2.1207271240632413e-33, 2.8576209521094248e-33, 2.6790956149992335e-33, 1.9397331610600872e-33, 1.0732516416057385e-32, 1.3656436392382437e-32, 3.5929807000946884e-33, 1.2102589415692683e-32, 7.270876333410034e-62, 2.1251946372941194e-63, 4.2983075558019715e-65, 1.7057917675174222e-66, 1.0042636057844844e-67, 1.5627369480820993e-67, 2.9175391603385095e-69, 2.7575736509645727e-73, 0.0, 2.9768076904438685e-72, 4.255442951141587e-74, 3.815948208246832e-76, 1.2639558234443867e-75, 3.911711521813728e-76, 2.991447168527313e-77, 0.0]\n"
     ]
    },
    {
     "name": "stderr",
     "output_type": "stream",
     "text": [
      "C:\\Users\\Alexander\\Anaconda3\\lib\\site-packages\\ipykernel_launcher.py:9: IntegrationWarning: The integral is probably divergent, or slowly convergent.\n",
      "  if __name__ == '__main__':\n"
     ]
    }
   ],
   "source": [
    "def C_l_integrand(x, l0):\n",
    "    \n",
    "    return (A_s/x)*((x/kpivot)**(ns - 1.0))*Θlk_spl(l0, x)**2.0\n",
    "\n",
    "C_l = np.zeros(n_l)\n",
    "\n",
    "for l in range(n_l):\n",
    "    l0 = ls[l]\n",
    "    C_l[l] = (4.0*np.pi)*quad(C_l_integrand, 0, np.inf, args=(l0))[0]\n",
    "    \n",
    "print(C_l)\n",
    "\n",
    "C_ls = [(ls[l]*(ls[l] + 1.0)/(2.0*np.pi))*C_l[l] for l in range(n_l)]\n",
    "\n",
    "print(C_ls)"
   ]
  },
  {
   "cell_type": "code",
   "execution_count": 15,
   "metadata": {},
   "outputs": [
    {
     "name": "stderr",
     "output_type": "stream",
     "text": [
      "C:\\Users\\Alexander\\Anaconda3\\lib\\site-packages\\ipykernel_launcher.py:10: IntegrationWarning: The maximum number of subdivisions (50) has been achieved.\n",
      "  If increasing the limit yields no improvement it is advised to analyze \n",
      "  the integrand in order to determine the difficulties.  If the position of a \n",
      "  local difficulty can be determined (singularity, discontinuity) one will \n",
      "  probably gain from splitting up the interval and calling the integrator \n",
      "  on the subranges.  Perhaps a special-purpose integrator should be used.\n",
      "  # Remove the CWD from sys.path while we load stuff.\n",
      "C:\\Users\\Alexander\\Anaconda3\\lib\\site-packages\\ipykernel_launcher.py:10: IntegrationWarning: The integral is probably divergent, or slowly convergent.\n",
      "  # Remove the CWD from sys.path while we load stuff.\n"
     ]
    },
    {
     "name": "stdout",
     "output_type": "stream",
     "text": [
      "[0.00000000e+00 0.00000000e+00 0.00000000e+00 0.00000000e+00\n",
      " 0.00000000e+00 0.00000000e+00 0.00000000e+00 0.00000000e+00\n",
      " 0.00000000e+00 0.00000000e+00 0.00000000e+00 0.00000000e+00\n",
      " 0.00000000e+00 0.00000000e+00 0.00000000e+00 0.00000000e+00\n",
      " 0.00000000e+00 0.00000000e+00 0.00000000e+00 0.00000000e+00\n",
      " 0.00000000e+00 0.00000000e+00 0.00000000e+00 0.00000000e+00\n",
      " 0.00000000e+00 0.00000000e+00 0.00000000e+00 0.00000000e+00\n",
      " 0.00000000e+00 0.00000000e+00 0.00000000e+00 0.00000000e+00\n",
      " 0.00000000e+00 0.00000000e+00 0.00000000e+00 0.00000000e+00\n",
      " 0.00000000e+00 0.00000000e+00 0.00000000e+00 0.00000000e+00\n",
      " 0.00000000e+00 0.00000000e+00 0.00000000e+00 0.00000000e+00\n",
      " 0.00000000e+00 0.00000000e+00 0.00000000e+00 0.00000000e+00\n",
      " 0.00000000e+00 0.00000000e+00 0.00000000e+00 7.47175269e-09]\n"
     ]
    }
   ],
   "source": [
    "# Integrate to get C_l for all l\n",
    "\n",
    "def Cl_integrand(x, l):\n",
    "    \n",
    "    return ((c*x/H0)**(ns - 1.0))*(Θlk_spl(l, x)**2.0)*(1.0/x)\n",
    "\n",
    "C_l = np.zeros(n_l)\n",
    "\n",
    "for l in range(n_l):\n",
    "    C_l[i] = quad(Cl_integrand, 0, np.inf, args=(l))[0]\n",
    "\n",
    "print(C_l)"
   ]
  },
  {
   "cell_type": "code",
   "execution_count": 21,
   "metadata": {},
   "outputs": [
    {
     "name": "stdout",
     "output_type": "stream",
     "text": [
      "[0.0009699251439105552, 0.00015864770749420375, 0.0001205340925338059, 1.3353725769711667e-05, 6.636453102615512e-07, -2.8858905445338045e-07, 3.7182407504867044e-09, 4.6320480755082534e-09, 3.2047162858369884e-13, 4.657672036833285e-20, 1.5032850543240262e-32, 1.0578985501249125e-38, 3.938274800884757e-35, 6.486542867062685e-35, 8.087079724785421e-35, 6.780941277689594e-35, 2.3846932034816612e-35, 2.3898677142112648e-36, 1.0688829549148835e-34, 3.5487262346015866e-34, 2.7646762858948062e-34, 4.130325476409315e-34, 3.83646390556964e-34, 1.322949070185435e-33, 2.564834504426436e-34, 1.9601466053285695e-33, 9.343184562747668e-34, 2.5384268252460865e-34, 2.1207271240632413e-33, 2.8576209521094248e-33, 2.6790956149992335e-33, 1.9397331610600872e-33, 1.0732516416057385e-32, 1.3656436392382437e-32, 3.5929807000946884e-33, 1.2102589415692683e-32, 7.270876333410034e-62, 2.1251946372941194e-63, 4.2983075558019715e-65, 1.7057917675174222e-66, 1.0042636057844844e-67, 1.5627369480820993e-67, 2.9175391603385095e-69, 2.7575736509645727e-73, 0.0, 2.9768076904438685e-72, 4.255442951141587e-74, 3.815948208246832e-76, 1.2639558234443867e-75, 3.911711521813728e-76, 2.991447168527313e-77, 0.0]\n"
     ]
    }
   ],
   "source": [
    "# Spline C_l\n",
    "print(C_ls)\n",
    "C_ls_spl = BSpline(ls, C_ls, k=spline_order)"
   ]
  },
  {
   "cell_type": "code",
   "execution_count": 22,
   "metadata": {},
   "outputs": [
    {
     "data": {
      "image/png": "[encoded data removed]",
      "text/plain": [
       "<Figure size 1100x700 with 1 Axes>"
      ]
     },
     "metadata": {
      "needs_background": "light"
     },
     "output_type": "display_data"
    }
   ],
   "source": [
    "#Pk = np.array([matter_power_spectrum(k, x) for k in ks]).flatten()\n",
    "#plt.xscale('log')\n",
    "#plt.scale('log')\n",
    "#plt.plot(ks*m2Mpc, Pk/m2Mpc**2.0)\n",
    "#plt.show()\n",
    "ls_plot = np.exp( np.linspace(np.log(2.0), np.log(lmax), 200) )\n",
    "plt.figure(figsize=(11, 7), dpi = 100)\n",
    "plt.title('CMB Angular Power-Spectrum')\n",
    "plt.xlabel('Multipole $l$')\n",
    "plt.ylabel('$l$($l$+1)/2π $C_l$ [μK$^2$]')\n",
    "plt.xscale('log')\n",
    "plt.yscale('log')\n",
    "for i in range(n_l):\n",
    "    data_C_ls = C_ls_spl(ls_plot)\n",
    "plt.plot(ls_plot, data_C_ls)\n",
    "plt.show()"
   ]
  },
  {
   "cell_type": "code",
   "execution_count": null,
   "metadata": {},
   "outputs": [],
   "source": []
  }
 ],
 "metadata": {
  "kernelspec": {
   "display_name": "Python 3",
   "language": "python",
   "name": "python3"
  },
  "language_info": {
   "codemirror_mode": {
    "name": "ipython",
    "version": 3
   },
   "file_extension": ".py",
   "mimetype": "text/x-python",
   "name": "python",
   "nbconvert_exporter": "python",
   "pygments_lexer": "ipython3",
   "version": "3.7.3"
  }
 },
 "nbformat": 4,
 "nbformat_minor": 4
}
