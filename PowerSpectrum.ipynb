{
 "cells": [
  {
   "cell_type": "code",
   "execution_count": 23,
   "metadata": {},
   "outputs": [
    {
     "ename": "ValueError",
     "evalue": "could not broadcast input array from shape (500,100) into shape (1000,100)",
     "output_type": "error",
     "traceback": [
      "\u001b[1;31m---------------------------------------------------------------------------\u001b[0m",
      "\u001b[1;31mValueError\u001b[0m                                Traceback (most recent call last)",
      "\u001b[1;32m<ipython-input-23-7a17c46ce4fb>\u001b[0m in \u001b[0;36m<module>\u001b[1;34m\u001b[0m\n\u001b[0;32m     24\u001b[0m     \u001b[0mdΦ\u001b[0m \u001b[1;33m=\u001b[0m \u001b[0mnp\u001b[0m\u001b[1;33m.\u001b[0m\u001b[0mloadtxt\u001b[0m\u001b[1;33m(\u001b[0m\u001b[1;34m'dphi.csv'\u001b[0m\u001b[1;33m,\u001b[0m \u001b[0mdelimiter\u001b[0m\u001b[1;33m=\u001b[0m\u001b[1;34m','\u001b[0m\u001b[1;33m)\u001b[0m\u001b[1;33m\u001b[0m\u001b[1;33m\u001b[0m\u001b[0m\n\u001b[0;32m     25\u001b[0m     \u001b[0mdΨ\u001b[0m \u001b[1;33m=\u001b[0m \u001b[0mnp\u001b[0m\u001b[1;33m.\u001b[0m\u001b[0mloadtxt\u001b[0m\u001b[1;33m(\u001b[0m\u001b[1;34m'dpsi.csv'\u001b[0m\u001b[1;33m,\u001b[0m \u001b[0mdelimiter\u001b[0m\u001b[1;33m=\u001b[0m\u001b[1;34m','\u001b[0m\u001b[1;33m)\u001b[0m\u001b[1;33m\u001b[0m\u001b[1;33m\u001b[0m\u001b[0m\n\u001b[1;32m---> 26\u001b[1;33m     \u001b[0mdΘ\u001b[0m\u001b[1;33m[\u001b[0m\u001b[1;33m:\u001b[0m\u001b[1;33m,\u001b[0m \u001b[1;36m0\u001b[0m\u001b[1;33m,\u001b[0m \u001b[1;33m:\u001b[0m\u001b[1;33m]\u001b[0m \u001b[1;33m=\u001b[0m \u001b[0mnp\u001b[0m\u001b[1;33m.\u001b[0m\u001b[0mloadtxt\u001b[0m\u001b[1;33m(\u001b[0m\u001b[1;34m'dtheta0.csv'\u001b[0m\u001b[1;33m,\u001b[0m \u001b[0mdelimiter\u001b[0m\u001b[1;33m=\u001b[0m\u001b[1;34m','\u001b[0m\u001b[1;33m)\u001b[0m\u001b[1;33m\u001b[0m\u001b[1;33m\u001b[0m\u001b[0m\n\u001b[0m\u001b[0;32m     27\u001b[0m     \u001b[0mdΘ\u001b[0m\u001b[1;33m[\u001b[0m\u001b[1;33m:\u001b[0m\u001b[1;33m,\u001b[0m \u001b[1;36m1\u001b[0m\u001b[1;33m,\u001b[0m \u001b[1;33m:\u001b[0m\u001b[1;33m]\u001b[0m \u001b[1;33m=\u001b[0m \u001b[0mnp\u001b[0m\u001b[1;33m.\u001b[0m\u001b[0mloadtxt\u001b[0m\u001b[1;33m(\u001b[0m\u001b[1;34m'dtheta1.csv'\u001b[0m\u001b[1;33m,\u001b[0m \u001b[0mdelimiter\u001b[0m\u001b[1;33m=\u001b[0m\u001b[1;34m','\u001b[0m\u001b[1;33m)\u001b[0m\u001b[1;33m\u001b[0m\u001b[1;33m\u001b[0m\u001b[0m\n\u001b[0;32m     28\u001b[0m     \u001b[0mdΘ\u001b[0m\u001b[1;33m[\u001b[0m\u001b[1;33m:\u001b[0m\u001b[1;33m,\u001b[0m \u001b[1;36m2\u001b[0m\u001b[1;33m,\u001b[0m \u001b[1;33m:\u001b[0m\u001b[1;33m]\u001b[0m \u001b[1;33m=\u001b[0m \u001b[0mnp\u001b[0m\u001b[1;33m.\u001b[0m\u001b[0mloadtxt\u001b[0m\u001b[1;33m(\u001b[0m\u001b[1;34m'dtheta2.csv'\u001b[0m\u001b[1;33m,\u001b[0m \u001b[0mdelimiter\u001b[0m\u001b[1;33m=\u001b[0m\u001b[1;34m','\u001b[0m\u001b[1;33m)\u001b[0m\u001b[1;33m\u001b[0m\u001b[1;33m\u001b[0m\u001b[0m\n",
      "\u001b[1;31mValueError\u001b[0m: could not broadcast input array from shape (500,100) into shape (1000,100)"
     ]
    }
   ],
   "source": [
    "import import_ipynb\n",
    "from numba import jit\n",
    "from StructureEvolution import *\n",
    "from scipy.integrate import quad\n",
    "from scipy.special import spherical_jn\n",
    "\n",
    "import os.path\n",
    "if not os.path.isfile('delta.csv'):\n",
    "    structure_solve()\n",
    "else:\n",
    "    δ = np.loadtxt('delta.csv', delimiter=',')\n",
    "    δb = np.loadtxt('deltab.csv', delimiter=',')\n",
    "    v = np.loadtxt('v.csv', delimiter=',')\n",
    "    vb = np.loadtxt('vb.csv', delimiter=',')\n",
    "    Φ = np.loadtxt('phi.csv', delimiter=',')\n",
    "    Ψ = np.loadtxt('psi.csv', delimiter=',')\n",
    "    Θ[:, 0, :] = np.loadtxt('theta0.csv', delimiter=',')\n",
    "    Θ[:, 1, :] = np.loadtxt('theta1.csv', delimiter=',')\n",
    "    Θ[:, 2, :] = np.loadtxt('theta2.csv', delimiter=',')\n",
    "    Θ[:, 3, :] = np.loadtxt('theta3.csv', delimiter=',')\n",
    "    Θ[:, 4, :] = np.loadtxt('theta4.csv', delimiter=',')\n",
    "    Θ[:, 5, :] = np.loadtxt('theta5.csv', delimiter=',')\n",
    "    dvb = np.loadtxt('dvb.csv', delimiter=',')\n",
    "    dΦ = np.loadtxt('dphi.csv', delimiter=',')\n",
    "    dΨ = np.loadtxt('dpsi.csv', delimiter=',')\n",
    "    dΘ[:, 0, :] = np.loadtxt('dtheta0.csv', delimiter=',')\n",
    "    dΘ[:, 1, :] = np.loadtxt('dtheta1.csv', delimiter=',')\n",
    "    dΘ[:, 2, :] = np.loadtxt('dtheta2.csv', delimiter=',')\n",
    "    dΘ[:, 3, :] = np.loadtxt('dtheta3.csv', delimiter=',')\n",
    "    dΘ[:, 4, :] = np.loadtxt('dtheta4.csv', delimiter=',')\n",
    "    dΘ[:, 5, :] = np.loadtxt('dtheta5.csv', delimiter=',')\n",
    "    print('Variables loaded')"
   ]
  },
  {
   "cell_type": "code",
   "execution_count": 40,
   "metadata": {},
   "outputs": [
    {
     "name": "stdout",
     "output_type": "stream",
     "text": [
      "52\n"
     ]
    }
   ],
   "source": [
    "l_array = np.array([2, 3, 4, 5, 6, 7, 8, 10, 12, 15, 20, 25, 30, 40, 50, 60, 70, 80, 90, 100, 120, 140, 160, 180, 200, 225, 250, 275, 300, 350, 400, 450, 500, 550, 600, 650, 700, 750, 800, 850, 900, 950, 1000, 1050, 1100, 1150, 1200, 1250, 1300, 1350, 1400, 1450, 1500, 1550, 1600, 1650, 1700, 1750, 1800, 1850, 1900, 1950, 2000, 2150, 2300, 2450, 2600, 2750, 2900, 3000, 3200, 3400, 3600, 3800, 4000])\n",
    "#l_array = np.array([2, 140, 550, 700, 1000, 1900, 2600, 3000, 3600, 4000])\n",
    "#l_array = np.array([2, 20, 60, 160, 300, 600, 800, 1000, 1050, 1250, 1500])\n",
    "kpivot_Mpc = .05\n",
    "kpivot = kpivot_Mpc/m2Mpc\n",
    "ns = .96\n",
    "A_s = 2.0e-9\n",
    "lmax = 1500\n",
    "ls = l_array[l_array < lmax]\n",
    "#ls = l_array\n",
    "n_l = len(ls)\n",
    "np.shape(l_array)\n",
    "print(n_l)"
   ]
  },
  {
   "cell_type": "code",
   "execution_count": 3,
   "metadata": {},
   "outputs": [
    {
     "name": "stdout",
     "output_type": "stream",
     "text": [
      "[2.000e+00 3.500e+01 1.400e+02 3.150e+02 5.600e+02 8.750e+02 1.260e+03\n",
      " 1.715e+03 2.240e+03 2.835e+03 3.500e+03]\n",
      "11\n"
     ]
    },
    {
     "data": {
      "text/plain": [
       "(11,)"
      ]
     },
     "execution_count": 3,
     "metadata": {},
     "output_type": "execute_result"
    }
   ],
   "source": [
    "#plt.plot(l_array, color='b')\n",
    "#plt.plot([i for i in range(75)], [i**2/1.4 for i in range(75)], color = 'k')\n",
    "\n",
    "ggg = 0\n",
    "for i in range(75):\n",
    "    if i%7==0:\n",
    "        ggg += 1\n",
    "\n",
    "ls = np.zeros(ggg)\n",
    "ind = 0\n",
    "for i in range(75):\n",
    "    if i%7==0:\n",
    "        if ind == 0:\n",
    "            ls[ind] = 2.0\n",
    "        else:\n",
    "            ls[ind] = i**2/1.4\n",
    "        #ls[ind] = i**2/1.4\n",
    "        ind += 1\n",
    "\n",
    "n_l = len(ls)\n",
    "print(ls)\n",
    "print(n_l)\n",
    "np.shape(ls)"
   ]
  },
  {
   "cell_type": "code",
   "execution_count": 41,
   "metadata": {},
   "outputs": [],
   "source": [
    "def cell_TT(l):\n",
    "    \"\"\"The CMB power specturm l(l + 1)/2π Cell in units of (μK)^2\"\"\"\n",
    "    \n",
    "    return\n",
    "\n",
    "def matter_power_spectrum(k, x):\n",
    "    \"\"\"The matter power-spectrum at wavenumber k at time x = ln(a)\"\"\"\n",
    "    \n",
    "    return\n",
    "\n",
    "def primordial_power_spectrum(k):\n",
    "    \"\"\"The primordial power-spectrum Δ(k) in P(k) = 2π^2/k^3 Δ(k)\"\"\"\n",
    "    \n",
    "    return A_s*(k/kpivot)**(ns - 1.0)"
   ]
  },
  {
   "cell_type": "code",
   "execution_count": 42,
   "metadata": {},
   "outputs": [],
   "source": [
    "class Spherical_Bessel:\n",
    "    def __init__(self, j_l_spline):\n",
    "        self.j_l_spline = j_l_spline\n",
    "        \n",
    "    def make_spline(self):\n",
    "        self.j_l_spline = BSpline(j_l_args, j_l, k=spline_order)\n",
    "        return self.j_l_spline"
   ]
  },
  {
   "cell_type": "code",
   "execution_count": 43,
   "metadata": {},
   "outputs": [],
   "source": [
    "# Create splines of Bessel functions j_l needed below for all ls in 'ls'\n",
    "ini_spl = interp1d([1, 2, 3, 4], [1, 2, 3, 4], kind=spline_order)\n",
    "\n",
    "n_args = 5400\n",
    "j_l_args = np.linspace(0, 3500, n_args, endpoint=True)\n",
    "\n",
    "j_l_splines = np.ndarray((n_l,), dtype=np.object)\n",
    "\n",
    "'''\n",
    "print(ls[0])\n",
    "jltest = spherical_jn(0, np.linspace(ls[0], 3500, n_args, endpoint=True))\n",
    "print(jltest)\n",
    "#plt.xlim(0, 100)\n",
    "plt.plot(j_l_args, jltest, 'b')\n",
    "jltest = spherical_jn(0, np.linspace(ls[-1], 3500, n_args, endpoint=True))\n",
    "plt.plot(j_l_args, jltest, 'r')\n",
    "plt.show()\n",
    "'''\n",
    "\n",
    "for i in range(n_l):\n",
    "    j_l = spherical_jn(ls[i], j_l_args)\n",
    "    \n",
    "    j_l_splines[i] = Spherical_Bessel(j_l_spline=ini_spl)\n",
    "    j_l_splines[i].make_spline()"
   ]
  },
  {
   "cell_type": "code",
   "execution_count": 44,
   "metadata": {},
   "outputs": [],
   "source": [
    "def source_function():\n",
    "    S_small = np.zeros(shape = (500, nk))\n",
    "    S = np.zeros(shape = (n_high_res, n_high_res))\n",
    "    \n",
    "    x_grid = np.linspace(xinit, x_end, 500)\n",
    "    \n",
    "    #for i in range(n_grid, ntotal):\n",
    "    for i in range(0, 500):\n",
    "        g = gspl(x_grid[i])[0]\n",
    "        dg = g2spl(x_grid[i])[0]\n",
    "        ddg = g22spl(x_grid[i])[0]\n",
    "        τ = τspl(x_grid[i])[0]\n",
    "        dτ = τ2spl(x_grid[i])[0]\n",
    "        ddτ = τ22spl(x_grid[i])[0]\n",
    "        hp = getHPrime(x_grid[i])\n",
    "        dhp = getdHPrime(x_grid[i])\n",
    "        ddhhp = .5*H0**2.0*((Ωb + Ωm)/np.exp(x_grid[i]) + 4.0*Ωr/np.exp(2.0*x_grid[i]) + 4.0*ΩΛ*np.exp(2.0*x_grid[i]))\n",
    "    \n",
    "        for j in range(nk):\n",
    "            Π = Θ[ntight + i, 2, j]\n",
    "            dΠ = dΘ[i, 2, j]\n",
    "            ddΠ = .4*c*ks[j]*(-dhp*Θ[ntight + i, 1, j]/hp + dΘ[i, 1, j])/hp + .3*(ddτ*Π + dτ*dΠ) - (.6*c*ks[j]/hp)*((-dhp/hp)*Θ[ntight + i, 3, j] + dΘ[i, 3, j])\n",
    "            \n",
    "            part1 = g*(Θ[ntight + i, 0, j] + Ψ[ntight + i, j] + Π/4.0)\n",
    "            part2 = np.exp(-τ)*(dΨ[i, j] - dΦ[i, j])\n",
    "            part3 = -(1.0/(c*ks[j]))*(g*vb[ntight + i, j]*dhp + g*hp*dvb[i, j] + hp*vb[ntight + i, j]*dg)\n",
    "            part4 = ((3.0/4.0)/(c**2.0*ks[j]**2.0))*(ddhhp*g*Π + 3.0*hp*dhp*(dg*Π + g*dΠ) + hp**2.0*(ddg*Π + 2.0*dg*dΠ + g*ddΠ))\n",
    "            \n",
    "            S_small[i, j] = part1 + part2 + part3 + part4       \n",
    "    \n",
    "    S_small_spl = RectBivariateSpline(x_grid, ks, S_small)\n",
    "    \n",
    "    # x-values during and after recombination\n",
    "    x_brecomb = np.linspace(-math.log(1631.4), -math.log(615.2), 2000)\n",
    "    x_arecomb = np.linspace(-math.log(615.2), 0.0, 3000, endpoint=True)\n",
    "    \n",
    "    x_final_high_res = np.concatenate((x_brecomb, x_arecomb), axis=0)\n",
    "    \n",
    "    ks_final_high_res = np.zeros(n_high_res)\n",
    "    for i in range(n_high_res):\n",
    "        ks_high_res[i] = kmin + (kmax - kmin)*(i/100.0)**2.0\n",
    "    \n",
    "    \n",
    "    for i in range(n_high_res):\n",
    "        for j in range(n_high_res):\n",
    "            #S[i, j] = S_small_spl(x_grid_high_res[i], ks_high_res[j])\n",
    "            S[i, j] = S_small_spl(x_final_high_res[i], ks_final_high_res[j])\n",
    "            \n",
    "            \n",
    "            \n",
    "    S_spl = RectBivariateSpline(x_grid_high_res, ks_high_res, S)\n",
    "        \n",
    "    return S_spl"
   ]
  },
  {
   "cell_type": "code",
   "execution_count": 46,
   "metadata": {},
   "outputs": [],
   "source": [
    "# Set up k-array to evaluate Θ_l on\n",
    "n_high_res = 5000\n",
    "\n",
    "ks_high_res = np.zeros(n_high_res)\n",
    "for i in range(nk):\n",
    "    ks_high_res[i] = kmin + (kmax - kmin)*(i/100.0)**2.0\n",
    "\n",
    "#ks_high_res = np.exp(np.linspace(np.log(kmin), np.log(kmax), num=n_high_res))\n",
    "\n",
    "xstartrec = -np.log(1.0 + 1630.4)\n",
    "x_grid_high_res = np.linspace(xstartrec, x_end, n_high_res, endpoint=True)\n",
    "\n",
    "S_spl = source_function()\n",
    "\n",
    "η_high_res = np.linspace(η_grid[0], η_grid[-1], n_high_res, endpoint=True)"
   ]
  },
  {
   "cell_type": "code",
   "execution_count": 47,
   "metadata": {},
   "outputs": [
    {
     "data": {
      "text/plain": [
       "array([0.2016167])"
      ]
     },
     "execution_count": 47,
     "metadata": {},
     "output_type": "execute_result"
    }
   ],
   "source": [
    "j_l_splines[0].j_l_spline(ks_high_res[0]*(η_ini - η_spline(x_grid[0])))"
   ]
  },
  {
   "cell_type": "code",
   "execution_count": 48,
   "metadata": {},
   "outputs": [
    {
     "name": "stdout",
     "output_type": "stream",
     "text": [
      "-------------\n",
      "i: 0\n",
      "l0: 2\n"
     ]
    },
    {
     "name": "stderr",
     "output_type": "stream",
     "text": [
      "C:\\Users\\Alexander\\Anaconda3\\lib\\site-packages\\ipykernel_launcher.py:23: IntegrationWarning: The integral is probably divergent, or slowly convergent.\n"
     ]
    },
    {
     "name": "stdout",
     "output_type": "stream",
     "text": [
      "-------------\n",
      "i: 1\n",
      "l0: 3\n",
      "-------------\n",
      "i: 2\n",
      "l0: 4\n",
      "-------------\n",
      "i: 3\n",
      "l0: 5\n",
      "-------------\n",
      "i: 4\n",
      "l0: 6\n",
      "-------------\n",
      "i: 5\n",
      "l0: 7\n",
      "-------------\n",
      "i: 6\n",
      "l0: 8\n",
      "-------------\n",
      "i: 7\n",
      "l0: 10\n"
     ]
    },
    {
     "name": "stderr",
     "output_type": "stream",
     "text": [
      "C:\\Users\\Alexander\\Anaconda3\\lib\\site-packages\\ipykernel_launcher.py:23: IntegrationWarning: The algorithm does not converge.  Roundoff error is detected\n",
      "  in the extrapolation table.  It is assumed that the requested tolerance\n",
      "  cannot be achieved, and that the returned result (if full_output = 1) is \n",
      "  the best which can be obtained.\n"
     ]
    },
    {
     "name": "stdout",
     "output_type": "stream",
     "text": [
      "-------------\n",
      "i: 8\n",
      "l0: 12\n",
      "-------------\n",
      "i: 9\n",
      "l0: 15\n",
      "-------------\n",
      "i: 10\n",
      "l0: 20\n",
      "-------------\n",
      "i: 11\n",
      "l0: 25\n",
      "-------------\n",
      "i: 12\n",
      "l0: 30\n",
      "-------------\n",
      "i: 13\n",
      "l0: 40\n",
      "-------------\n",
      "i: 14\n",
      "l0: 50\n",
      "-------------\n",
      "i: 15\n",
      "l0: 60\n",
      "-------------\n",
      "i: 16\n",
      "l0: 70\n",
      "-------------\n",
      "i: 17\n",
      "l0: 80\n"
     ]
    },
    {
     "name": "stderr",
     "output_type": "stream",
     "text": [
      "C:\\Users\\Alexander\\Anaconda3\\lib\\site-packages\\ipykernel_launcher.py:23: IntegrationWarning: The maximum number of subdivisions (50) has been achieved.\n",
      "  If increasing the limit yields no improvement it is advised to analyze \n",
      "  the integrand in order to determine the difficulties.  If the position of a \n",
      "  local difficulty can be determined (singularity, discontinuity) one will \n",
      "  probably gain from splitting up the interval and calling the integrator \n",
      "  on the subranges.  Perhaps a special-purpose integrator should be used.\n"
     ]
    },
    {
     "name": "stdout",
     "output_type": "stream",
     "text": [
      "-------------\n",
      "i: 18\n",
      "l0: 90\n",
      "-------------\n",
      "i: 19\n",
      "l0: 100\n",
      "-------------\n",
      "i: 20\n",
      "l0: 120\n",
      "-------------\n",
      "i: 21\n",
      "l0: 140\n",
      "-------------\n",
      "i: 22\n",
      "l0: 160\n",
      "-------------\n",
      "i: 23\n",
      "l0: 180\n",
      "-------------\n",
      "i: 24\n",
      "l0: 200\n",
      "-------------\n",
      "i: 25\n",
      "l0: 225\n",
      "-------------\n",
      "i: 26\n",
      "l0: 250\n",
      "-------------\n",
      "i: 27\n",
      "l0: 275\n",
      "-------------\n",
      "i: 28\n",
      "l0: 300\n",
      "-------------\n",
      "i: 29\n",
      "l0: 350\n",
      "-------------\n",
      "i: 30\n",
      "l0: 400\n",
      "-------------\n",
      "i: 31\n",
      "l0: 450\n",
      "-------------\n",
      "i: 32\n",
      "l0: 500\n",
      "-------------\n",
      "i: 33\n",
      "l0: 550\n",
      "-------------\n",
      "i: 34\n",
      "l0: 600\n",
      "-------------\n",
      "i: 35\n",
      "l0: 650\n",
      "-------------\n",
      "i: 36\n",
      "l0: 700\n",
      "-------------\n",
      "i: 37\n",
      "l0: 750\n",
      "-------------\n",
      "i: 38\n",
      "l0: 800\n",
      "-------------\n",
      "i: 39\n",
      "l0: 850\n",
      "-------------\n",
      "i: 40\n",
      "l0: 900\n",
      "-------------\n",
      "i: 41\n",
      "l0: 950\n",
      "-------------\n",
      "i: 42\n",
      "l0: 1000\n",
      "-------------\n",
      "i: 43\n",
      "l0: 1050\n",
      "-------------\n",
      "i: 44\n",
      "l0: 1100\n",
      "-------------\n",
      "i: 45\n",
      "l0: 1150\n",
      "-------------\n",
      "i: 46\n",
      "l0: 1200\n",
      "-------------\n",
      "i: 47\n",
      "l0: 1250\n",
      "-------------\n",
      "i: 48\n",
      "l0: 1300\n",
      "-------------\n",
      "i: 49\n",
      "l0: 1350\n",
      "-------------\n",
      "i: 50\n",
      "l0: 1400\n",
      "-------------\n",
      "i: 51\n",
      "l0: 1450\n",
      "Time: 10866.293544000015\n"
     ]
    }
   ],
   "source": [
    "Θ_lk = np.zeros(shape = (n_l, n_high_res))\n",
    "\n",
    "# Solve for Θ_l(k) for all k in k-array for all l in l-array\n",
    "def Θ_integrand(x, k, l):\n",
    "    return S_spl(x, k)*j_l_splines[l].j_l_spline(ks_high_res[k]*(η_ini - η_spline(x)))\n",
    "\n",
    "C_l = np.zeros(n_l)\n",
    "C_ls = np.zeros(n_l)\n",
    "start = timeit.default_timer()\n",
    "for l in range(n_l):\n",
    "    print('-------------')\n",
    "    print('i:', l)\n",
    "    \n",
    "    l0 = ls[l]\n",
    "    print('l0:', l0)    \n",
    "    \n",
    "    for k in range(n_high_res):\n",
    "        #if k%500==0:\n",
    "        #    print('---------------')\n",
    "        #    \n",
    "        #    print(k)\n",
    "        k0 = ks_high_res[k]\n",
    "        Θ_lk[l, k] = quad(Θ_integrand, -np.inf, 0, args=(k, l))[0]\n",
    "        \n",
    "        #C_l[l] = C_l[l] + (c*k0/H0)**(ns - 1.0) * (Θ_lk[l, k]**2.0) * ((1.0/4999.0)/(k0))\n",
    "        \n",
    "    #C_ls[l] = C_l[l] * (ls[l] * (ls[l] + 1.0))/(2.0*np.pi)\n",
    "    \n",
    "    \n",
    "stop = timeit.default_timer()\n",
    "print('Time:', stop - start)"
   ]
  },
  {
   "cell_type": "code",
   "execution_count": 49,
   "metadata": {},
   "outputs": [],
   "source": [
    "# Spline Θ_l(k) for all l\n",
    "Θlk_spl = RectBivariateSpline(ls, ks_high_res, Θ_lk)"
   ]
  },
  {
   "cell_type": "code",
   "execution_count": 52,
   "metadata": {},
   "outputs": [
    {
     "name": "stderr",
     "output_type": "stream",
     "text": [
      "C:\\Users\\Alexander\\Anaconda3\\lib\\site-packages\\ipykernel_launcher.py:9: IntegrationWarning: The maximum number of subdivisions (50) has been achieved.\n",
      "  If increasing the limit yields no improvement it is advised to analyze \n",
      "  the integrand in order to determine the difficulties.  If the position of a \n",
      "  local difficulty can be determined (singularity, discontinuity) one will \n",
      "  probably gain from splitting up the interval and calling the integrator \n",
      "  on the subranges.  Perhaps a special-purpose integrator should be used.\n",
      "  if __name__ == '__main__':\n"
     ]
    },
    {
     "name": "stdout",
     "output_type": "stream",
     "text": [
      "[3.51832663e+152 2.24679182e+154 4.77720643e+155 7.24728764e+156\n",
      " 1.02052900e+158 1.42298030e+159 5.65659268e+159 4.10497588e+160\n",
      " 2.46638272e+161 3.35624509e+191 2.21034485e+193 9.21773378e+190\n",
      " 2.22982655e+193 2.21754266e+193 2.13586616e+193 1.94413809e+193\n",
      " 1.61338527e+193 1.14994428e+193 6.22251167e+192 1.74421952e+192\n",
      " 2.59547370e+192 1.75688622e+193 1.90631367e+193 9.59871207e+191\n",
      " 1.31658281e+193 1.21137954e+193 1.49163457e+193 2.01474439e+193\n",
      " 2.10789069e+193 4.64932858e+191 1.01833820e+193 1.39734449e+193\n",
      " 3.24828546e+192 1.20357880e+193 1.80038500e+192 9.12688081e+192\n",
      " 3.57731935e+192 6.20738778e+192 9.92306232e+192 1.89527935e+193\n",
      " 1.80365470e+193 4.64029479e+192 1.36442346e+193 8.75200741e+191\n",
      " 3.84518688e+191 9.20052570e+192 9.76368018e+192 1.50776613e+193\n",
      " 1.29060913e+193 1.47389875e+193 2.44824063e+190 1.04794415e+193]\n",
      "[3.359754444559052e+152, 4.2910562864123624e+154, 1.5206320348299777e+156, 3.460324953588077e+157, 6.821733842323625e+158, 1.268256353341442e+160, 6.481977735858778e+160, 7.186599222347382e+161, 6.123577226731375e+162, 1.281991192987683e+193, 1.4775066936875484e+195, 9.535811317717877e+192, 3.3004576336783403e+195, 5.788099169907942e+195, 8.668308241868501e+195, 1.1324742266642007e+196, 1.276187856142983e+196, 1.1859651673118832e+196, 8.110913195575235e+195, 2.8037717074239993e+195, 5.997957459661007e+195, 5.519642065509914e+196, 7.815564521346588e+196, 4.977189499959554e+195, 8.423534642819769e+196, 9.803729606341832e+196, 1.4896913730379645e+197, 2.4337830525903815e+197, 3.0293954381716314e+197, 9.090453147973341e+195, 2.599659864173856e+197, 4.513491978076661e+197, 1.2950366219403814e+197, 5.80508987501407e+197, 1.0332638636256229e+197, 6.14662695098734e+197, 2.7937909196676955e+197, 5.5645520522140754e+197, 1.012018271748177e+198, 2.181935201601553e+198, 2.327774092649914e+198, 6.672211815000879e+197, 2.173718925392666e+198, 1.5371626505309243e+197, 7.411695827176886e+196, 1.938232798715939e+198, 2.2395353939515524e+198, 3.752506373875135e+198, 3.474045587218046e+198, 4.278355810290838e+198, 7.642587218263919e+195, 3.5090833341956075e+198]\n"
     ]
    }
   ],
   "source": [
    "def C_l_integrand(x, l0):\n",
    "    \n",
    "    return (A_s/x)*((x/kpivot)**(ns - 1.0))*Θlk_spl(l0, x)**2.0\n",
    "\n",
    "C_l = np.zeros(n_l)\n",
    "\n",
    "for l in range(n_l):\n",
    "    l0 = ls[l]\n",
    "    C_l[l] = (4.0*np.pi)*quad(C_l_integrand, 0, np.inf, args=(l0))[0]\n",
    "    \n",
    "print(C_l)\n",
    "\n",
    "C_ls = [(ls[l]*(ls[l] + 1.0)/(2.0*np.pi))*C_l[l] for l in range(n_l)]\n",
    "\n",
    "print(C_ls)"
   ]
  },
  {
   "cell_type": "code",
   "execution_count": 51,
   "metadata": {},
   "outputs": [
    {
     "name": "stderr",
     "output_type": "stream",
     "text": [
      "C:\\Users\\Alexander\\Anaconda3\\lib\\site-packages\\ipykernel_launcher.py:10: IntegrationWarning: The maximum number of subdivisions (50) has been achieved.\n",
      "  If increasing the limit yields no improvement it is advised to analyze \n",
      "  the integrand in order to determine the difficulties.  If the position of a \n",
      "  local difficulty can be determined (singularity, discontinuity) one will \n",
      "  probably gain from splitting up the interval and calling the integrator \n",
      "  on the subranges.  Perhaps a special-purpose integrator should be used.\n",
      "  # Remove the CWD from sys.path while we load stuff.\n"
     ]
    },
    {
     "ename": "IndexError",
     "evalue": "index 99 is out of bounds for axis 0 with size 52",
     "output_type": "error",
     "traceback": [
      "\u001b[1;31m---------------------------------------------------------------------------\u001b[0m",
      "\u001b[1;31mIndexError\u001b[0m                                Traceback (most recent call last)",
      "\u001b[1;32m<ipython-input-51-e650c4c43f97>\u001b[0m in \u001b[0;36m<module>\u001b[1;34m\u001b[0m\n\u001b[0;32m      8\u001b[0m \u001b[1;33m\u001b[0m\u001b[0m\n\u001b[0;32m      9\u001b[0m \u001b[1;32mfor\u001b[0m \u001b[0ml\u001b[0m \u001b[1;32min\u001b[0m \u001b[0mrange\u001b[0m\u001b[1;33m(\u001b[0m\u001b[0mn_l\u001b[0m\u001b[1;33m)\u001b[0m\u001b[1;33m:\u001b[0m\u001b[1;33m\u001b[0m\u001b[1;33m\u001b[0m\u001b[0m\n\u001b[1;32m---> 10\u001b[1;33m     \u001b[0mC_l\u001b[0m\u001b[1;33m[\u001b[0m\u001b[0mi\u001b[0m\u001b[1;33m]\u001b[0m \u001b[1;33m=\u001b[0m \u001b[0mquad\u001b[0m\u001b[1;33m(\u001b[0m\u001b[0mCl_integrand\u001b[0m\u001b[1;33m,\u001b[0m \u001b[1;36m0\u001b[0m\u001b[1;33m,\u001b[0m \u001b[0mnp\u001b[0m\u001b[1;33m.\u001b[0m\u001b[0minf\u001b[0m\u001b[1;33m,\u001b[0m \u001b[0margs\u001b[0m\u001b[1;33m=\u001b[0m\u001b[1;33m(\u001b[0m\u001b[0ml\u001b[0m\u001b[1;33m)\u001b[0m\u001b[1;33m)\u001b[0m\u001b[1;33m[\u001b[0m\u001b[1;36m0\u001b[0m\u001b[1;33m]\u001b[0m\u001b[1;33m\u001b[0m\u001b[1;33m\u001b[0m\u001b[0m\n\u001b[0m\u001b[0;32m     11\u001b[0m \u001b[1;33m\u001b[0m\u001b[0m\n\u001b[0;32m     12\u001b[0m \u001b[0mprint\u001b[0m\u001b[1;33m(\u001b[0m\u001b[0mC_l\u001b[0m\u001b[1;33m)\u001b[0m\u001b[1;33m\u001b[0m\u001b[1;33m\u001b[0m\u001b[0m\n",
      "\u001b[1;31mIndexError\u001b[0m: index 99 is out of bounds for axis 0 with size 52"
     ]
    }
   ],
   "source": [
    "# Integrate to get C_l for all l\n",
    "\n",
    "def Cl_integrand(x, l):\n",
    "    \n",
    "    return ((c*x/H0)**(ns - 1.0))*(Θlk_spl(l, x)**2.0)*(1.0/x)\n",
    "\n",
    "C_l = np.zeros(n_l)\n",
    "\n",
    "for l in range(n_l):\n",
    "    C_l[i] = quad(Cl_integrand, 0, np.inf, args=(l))[0]\n",
    "\n",
    "print(C_l)"
   ]
  },
  {
   "cell_type": "code",
   "execution_count": 53,
   "metadata": {},
   "outputs": [
    {
     "name": "stdout",
     "output_type": "stream",
     "text": [
      "[3.359754444559052e+152, 4.2910562864123624e+154, 1.5206320348299777e+156, 3.460324953588077e+157, 6.821733842323625e+158, 1.268256353341442e+160, 6.481977735858778e+160, 7.186599222347382e+161, 6.123577226731375e+162, 1.281991192987683e+193, 1.4775066936875484e+195, 9.535811317717877e+192, 3.3004576336783403e+195, 5.788099169907942e+195, 8.668308241868501e+195, 1.1324742266642007e+196, 1.276187856142983e+196, 1.1859651673118832e+196, 8.110913195575235e+195, 2.8037717074239993e+195, 5.997957459661007e+195, 5.519642065509914e+196, 7.815564521346588e+196, 4.977189499959554e+195, 8.423534642819769e+196, 9.803729606341832e+196, 1.4896913730379645e+197, 2.4337830525903815e+197, 3.0293954381716314e+197, 9.090453147973341e+195, 2.599659864173856e+197, 4.513491978076661e+197, 1.2950366219403814e+197, 5.80508987501407e+197, 1.0332638636256229e+197, 6.14662695098734e+197, 2.7937909196676955e+197, 5.5645520522140754e+197, 1.012018271748177e+198, 2.181935201601553e+198, 2.327774092649914e+198, 6.672211815000879e+197, 2.173718925392666e+198, 1.5371626505309243e+197, 7.411695827176886e+196, 1.938232798715939e+198, 2.2395353939515524e+198, 3.752506373875135e+198, 3.474045587218046e+198, 4.278355810290838e+198, 7.642587218263919e+195, 3.5090833341956075e+198]\n"
     ]
    }
   ],
   "source": [
    "# Spline C_l\n",
    "print(C_ls)\n",
    "C_ls_spl = BSpline(ls, C_ls, k=spline_order)"
   ]
  },
  {
   "cell_type": "code",
   "execution_count": 75,
   "metadata": {},
   "outputs": [
    {
     "data": {
      "image/png": "[encoded data removed]",
      "text/plain": [
       "<Figure size 1100x700 with 1 Axes>"
      ]
     },
     "metadata": {
      "needs_background": "light"
     },
     "output_type": "display_data"
    },
    {
     "data": {
      "image/png": "[encoded data removed]",
      "text/plain": [
       "<Figure size 1100x700 with 1 Axes>"
      ]
     },
     "metadata": {
      "needs_background": "light"
     },
     "output_type": "display_data"
    }
   ],
   "source": [
    "#Pk = np.array([matter_power_spectrum(k, x) for k in ks]).flatten()\n",
    "#plt.xscale('log')\n",
    "#plt.yscale('log')\n",
    "#plt.plot(ks*m2Mpc, Pk/m2Mpc**2.0)\n",
    "#plt.show()\n",
    "\n",
    "\n",
    "#ls_plot = np.exp( np.linspace(np.log(2.0), np.log(lmax), 200) )\n",
    "ls_plot = np.linspace(2.0, lmax, 200)\n",
    "plt.figure(figsize=(11, 7), dpi = 100)\n",
    "plt.title('CMB Angular Power-Spectrum')\n",
    "plt.xlabel('Multipole $l$')\n",
    "plt.ylabel('$l$($l$+1)/2π $C_l$ [μK$^2$]')\n",
    "#plt.xscale('log')\n",
    "#plt.yscale('log')\n",
    "for i in range(n_l):\n",
    "    data_C_ls = C_ls_spl(ls_plot)/1e196\n",
    "plt.plot(ls_plot, data_C_ls)\n",
    "plt.show()\n",
    "\n",
    "\n",
    "\n",
    "\n",
    "plt.figure(figsize=(11, 7), dpi = 100)\n",
    "\n",
    "C_ls_mod = [C_ls[i]/1e196for i in range(len(C_ls))]\n",
    "plt.plot(ls, C_ls_mod)\n",
    "plt.show()\n"
   ]
  },
  {
   "cell_type": "code",
   "execution_count": null,
   "metadata": {},
   "outputs": [],
   "source": []
  }
 ],
 "metadata": {
  "kernelspec": {
   "display_name": "Python 3",
   "language": "python",
   "name": "python3"
  },
  "language_info": {
   "codemirror_mode": {
    "name": "ipython",
    "version": 3
   },
   "file_extension": ".py",
   "mimetype": "text/x-python",
   "name": "python",
   "nbconvert_exporter": "python",
   "pygments_lexer": "ipython3",
   "version": "3.7.3"
  }
 },
 "nbformat": 4,
 "nbformat_minor": 4
}
