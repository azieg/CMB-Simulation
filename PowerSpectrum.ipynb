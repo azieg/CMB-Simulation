{
 "cells": [
  {
   "cell_type": "code",
   "execution_count": 1,
   "metadata": {},
   "outputs": [
    {
     "name": "stdout",
     "output_type": "stream",
     "text": [
      "importing Jupyter notebook from StructureEvolution.ipynb\n",
      "importing Jupyter notebook from RecombHistory.ipynb\n",
      "importing Jupyter notebook from BackgroundCosmology.ipynb\n",
      "The surface of last scattering occured at x_* = -6.98 and z_* = 1068.80.\n",
      "\n",
      "The half-way point of recombination occured at x_r = -7.16 and z_r = 1291.14.\n",
      "\n",
      "Using only the Saha equation, the half-way point of recombination occured at x_r = -7.23 and z_r = 1383.57.\n",
      "\n",
      "------------------------------\n",
      "k: 0\n",
      "xtc: -15.0\n"
     ]
    },
    {
     "name": "stderr",
     "output_type": "stream",
     "text": [
      "BackgroundCosmology.ipynb:7: RuntimeWarning: overflow encountered in exp\n",
      "  \"outputs\": [],\n",
      "BackgroundCosmology.ipynb:10: RuntimeWarning: overflow encountered in exp\n",
      "  \"import numpy as np\\n\",\n",
      "BackgroundCosmology.ipynb:10: RuntimeWarning: invalid value encountered in double_scalars\n",
      "  \"import numpy as np\\n\",\n",
      "StructureEvolution.ipynb:14: RuntimeWarning: overflow encountered in exp\n",
      "  \"from scipy.integrate import solve_ivp\\n\",\n",
      "StructureEvolution.ipynb:25: RuntimeWarning: overflow encountered in exp\n",
      "  \"#kmin = 1.0/(η_spline(0.0)[0])#/m2Mpc)#7.256e-5\\n\",\n"
     ]
    },
    {
     "name": "stdout",
     "output_type": "stream",
     "text": [
      "------------------------------\n",
      "k: 20\n",
      "xtc: -15.0\n",
      "------------------------------\n",
      "k: 40\n",
      "xtc: -14.0\n"
     ]
    },
    {
     "name": "stderr",
     "output_type": "stream",
     "text": [
      "BackgroundCosmology.ipynb:10: RuntimeWarning: overflow encountered in double_scalars\n",
      "  \"import numpy as np\\n\",\n",
      "StructureEvolution.ipynb:30: RuntimeWarning: invalid value encountered in double_scalars\n",
      "  \"\\n\",\n"
     ]
    },
    {
     "name": "stdout",
     "output_type": "stream",
     "text": [
      "------------------------------\n",
      "k: 60\n",
      "xtc: -13.0\n",
      "------------------------------\n",
      "k: 80\n",
      "xtc: -12.0\n",
      "Time: 29.752684\n"
     ]
    }
   ],
   "source": [
    "import import_ipynb\n",
    "from StructureEvolution import *\n",
    "from scipy.integrate import quad\n",
    "\n",
    "from scipy.special import spherical_jn"
   ]
  },
  {
   "cell_type": "code",
   "execution_count": 55,
   "metadata": {},
   "outputs": [
    {
     "name": "stdout",
     "output_type": "stream",
     "text": [
      "10\n"
     ]
    }
   ],
   "source": [
    "#l_array = np.array([2, 3, 4, 5, 6, 7, 8, 10, 12, 15, 20, 25, 30, 40, 50, 60, 70, 80, 90, 100, 120, 140, 160, 180, 200, 225, 250, 275, 300, 350, 400, 450, 500, 550, 600, 650, 700, 750, 800, 850, 900, 950, 1000, 1050, 1100, 1150, 1200, 1250, 1300, 1350, 1400, 1450, 1500, 1550, 1600, 1650, 1700, 1750, 1800, 1850, 1900, 1950, 2000, 2150, 2300, 2450, 2600, 2750, 2900, 3000, 3200, 3400, 3600, 3800, 4000])\n",
    "#l_array = np.array([2, 140, 550, 700, 1000, 1900, 2600, 3000, 3600, 4000])\n",
    "l_array = np.array([2, 20, 60, 160, 300, 600, 800, 1000, 1050, 1250, 1500])\n",
    "kpivot_Mpc = .05\n",
    "kpivot = kpivot_Mpc/m2Mpc\n",
    "ns = .96\n",
    "A_s = 2.0e-9\n",
    "lmax = 1500\n",
    "ls = l_array[l_array < lmax]\n",
    "#ls = l_array\n",
    "n_l = len(ls)\n",
    "np.shape(l_array)\n",
    "print(n_l)"
   ]
  },
  {
   "cell_type": "code",
   "execution_count": 3,
   "metadata": {},
   "outputs": [
    {
     "name": "stdout",
     "output_type": "stream",
     "text": [
      "[2.000e+00 3.500e+01 1.400e+02 3.150e+02 5.600e+02 8.750e+02 1.260e+03\n",
      " 1.715e+03 2.240e+03 2.835e+03 3.500e+03]\n",
      "11\n"
     ]
    },
    {
     "data": {
      "text/plain": [
       "(11,)"
      ]
     },
     "execution_count": 3,
     "metadata": {},
     "output_type": "execute_result"
    }
   ],
   "source": [
    "#plt.plot(l_array, color='b')\n",
    "#plt.plot([i for i in range(75)], [i**2/1.4 for i in range(75)], color = 'k')\n",
    "\n",
    "ggg = 0\n",
    "for i in range(75):\n",
    "    if i%7==0:\n",
    "        ggg += 1\n",
    "\n",
    "ls = np.zeros(ggg)\n",
    "ind = 0\n",
    "for i in range(75):\n",
    "    if i%7==0:\n",
    "        if ind == 0:\n",
    "            ls[ind] = 2.0\n",
    "        else:\n",
    "            ls[ind] = i**2/1.4\n",
    "        #ls[ind] = i**2/1.4\n",
    "        ind += 1\n",
    "\n",
    "n_l = len(ls)\n",
    "print(ls)\n",
    "print(n_l)\n",
    "np.shape(ls)"
   ]
  },
  {
   "cell_type": "code",
   "execution_count": 4,
   "metadata": {},
   "outputs": [],
   "source": [
    "def cell_TT(l):\n",
    "    \"\"\"The CMB power specturm l(l + 1)/2π Cell in units of (μK)^2\"\"\"\n",
    "    \n",
    "    return\n",
    "\n",
    "def matter_power_spectrum(k, x):\n",
    "    \"\"\"The matter power-spectrum at wavenumber k at time x = ln(a)\"\"\"\n",
    "    \n",
    "    return\n",
    "\n",
    "def primordial_power_spectrum(k):\n",
    "    \"\"\"The primordial power-spectrum Δ(k) in P(k) = 2π^2/k^3 Δ(k)\"\"\"\n",
    "    \n",
    "    return A_s*(k/kpivot)**(ns - 1.0)"
   ]
  },
  {
   "cell_type": "code",
   "execution_count": 5,
   "metadata": {},
   "outputs": [],
   "source": [
    "class Spherical_Bessel:\n",
    "    def __init__(self, j_l_spline):\n",
    "        self.j_l_spline = j_l_spline\n",
    "        \n",
    "    def make_spline(self):\n",
    "        self.j_l_spline = BSpline(j_l_args, j_l, k=spline_order)\n",
    "        return self.j_l_spline"
   ]
  },
  {
   "cell_type": "code",
   "execution_count": 56,
   "metadata": {},
   "outputs": [],
   "source": [
    "# Create splines of Bessel functions j_l needed below for all ls in 'ls'\n",
    "ini_spl = interp1d([1, 2, 3, 4], [1, 2, 3, 4], kind=spline_order)\n",
    "\n",
    "n_args = 5400\n",
    "j_l_args = np.linspace(0, 3500, n_args, endpoint=True)\n",
    "\n",
    "j_l_splines = np.ndarray((n_l,), dtype=np.object)\n",
    "\n",
    "for i in range(n_l):\n",
    "    j_l = spherical_jn(ls[i], j_l_args)\n",
    "    \n",
    "    j_l_splines[i] = Spherical_Bessel(j_l_spline=ini_spl)\n",
    "    j_l_splines[i].make_spline()"
   ]
  },
  {
   "cell_type": "code",
   "execution_count": 57,
   "metadata": {},
   "outputs": [],
   "source": [
    "def source_function():\n",
    "    S_small = np.zeros(shape = (ntotal, nk))\n",
    "    S = np.zeros(shape = (n_high_res, n_high_res))\n",
    "    \n",
    "    x_grid = np.linspace(xinit, x_end, ntotal)\n",
    "    \n",
    "    for i in range(n_grid, ntotal):\n",
    "        g = gspl(x_grid[i])[0]\n",
    "        dg = g2spl(x_grid[i])[0]\n",
    "        ddg = g22spl(x_grid[i])[0]\n",
    "        τ = τspl(x_grid[i])[0]\n",
    "        dτ = τ2spl(x_grid[i])[0]\n",
    "        ddτ = τ22spl(x_grid[i])[0]\n",
    "        hp = getHPrime(x_grid[i])\n",
    "        dhp = getdHPrime(x_grid[i])\n",
    "        ddhhp = .5*H0**2.0*((Ωb + Ωm)/np.exp(x_grid[i]) + 4.0*Ωr/np.exp(2.0*x_grid[i]) + 4.0*ΩΛ*np.exp(2.0*x_grid[i]))\n",
    "    \n",
    "        for j in range(nk):\n",
    "            Π = Θ[i, 2, j]\n",
    "            dΠ = dΘ[i, 2, j]\n",
    "            ddΠ = .4*c*ks[j]*(-dhp*Θ[i, 1, j]/hp + dΘ[i, 1, j])/hp + .3*(ddτ*Π + dτ*dΠ) - (.6*c*ks[j]/hp)*((-dhp/hp)*Θ[i, 3, j] + dΘ[i, 3, j])\n",
    "            \n",
    "            part1 = g*(Θ[i, 0, j] + Ψ[i, j] + Π/4.0)\n",
    "            part2 = np.exp(-τ)*(dΨ[i, j] - dΦ[i, j])\n",
    "            part3 = -(1.0/(c*ks[j]))*(g*vb[i, j]*dhp + g*hp*dvb[i, j] + hp*vb[i, j]*dg)\n",
    "            part4 = ((3.0/4.0)/(c**2.0*ks[j]**2.0))*(ddhhp*g*Π + 3.0*hp*dhp*(dg*Π + g*dΠ) + hp**2.0*(ddg*Π + 2.0*dg*dΠ + g*ddΠ))\n",
    "            \n",
    "            S_small[i, j] = part1 + part2 + part3 + part4       \n",
    "    \n",
    "    S_small_spl = RectBivariateSpline(x_grid, ks, S_small)\n",
    "    \n",
    "    for i in range(n_high_res):\n",
    "        \n",
    "        for j in range(n_high_res):\n",
    "            S[i, j] = S_small_spl(x_grid_high_res[i], ks_high_res[j])\n",
    "        \n",
    "    S_spl = RectBivariateSpline(x_grid_high_res, ks_high_res, S)\n",
    "        \n",
    "    return S_spl"
   ]
  },
  {
   "cell_type": "code",
   "execution_count": 58,
   "metadata": {},
   "outputs": [],
   "source": [
    "# Set up k-array to evaluate Θ_l on\n",
    "n_high_res = 500#5000\n",
    "\n",
    "\n",
    "ks_high_res = np.exp(np.linspace(np.log(kmin), np.log(kmax), num=n_high_res))\n",
    "\n",
    "xstartrec = -np.log(1.0 + 1630.4)\n",
    "x_grid_high_res = np.linspace(xstartrec, x_end, n_high_res, endpoint=True)\n",
    "\n",
    "S_spl = source_function()\n",
    "\n",
    "η_high_res = np.linspace(η_grid[0], η_grid[-1], n_high_res, endpoint=True)"
   ]
  },
  {
   "cell_type": "code",
   "execution_count": 59,
   "metadata": {},
   "outputs": [
    {
     "data": {
      "text/plain": [
       "array([0.2016167])"
      ]
     },
     "execution_count": 59,
     "metadata": {},
     "output_type": "execute_result"
    }
   ],
   "source": [
    "j_l_splines[0].j_l_spline(ks_high_res[0]*(η_ini - η_spline(x_grid[0])))"
   ]
  },
  {
   "cell_type": "code",
   "execution_count": 60,
   "metadata": {},
   "outputs": [
    {
     "name": "stdout",
     "output_type": "stream",
     "text": [
      "0\n",
      "0\n"
     ]
    },
    {
     "name": "stderr",
     "output_type": "stream",
     "text": [
      "C:\\Users\\Alexander\\Anaconda3\\lib\\site-packages\\ipykernel_launcher.py:17: IntegrationWarning: The maximum number of subdivisions (50) has been achieved.\n",
      "  If increasing the limit yields no improvement it is advised to analyze \n",
      "  the integrand in order to determine the difficulties.  If the position of a \n",
      "  local difficulty can be determined (singularity, discontinuity) one will \n",
      "  probably gain from splitting up the interval and calling the integrator \n",
      "  on the subranges.  Perhaps a special-purpose integrator should be used.\n",
      "C:\\Users\\Alexander\\Anaconda3\\lib\\site-packages\\ipykernel_launcher.py:17: IntegrationWarning: The integral is probably divergent, or slowly convergent.\n"
     ]
    },
    {
     "name": "stdout",
     "output_type": "stream",
     "text": [
      "1\n",
      "0\n",
      "2\n",
      "0\n",
      "3\n",
      "0\n",
      "4\n",
      "0\n",
      "5\n",
      "0\n",
      "6\n",
      "0\n",
      "7\n",
      "0\n",
      "8\n",
      "0\n",
      "9\n",
      "0\n",
      "Time: 39.9036887000002\n"
     ]
    }
   ],
   "source": [
    "Θ_lk = np.zeros(shape = (n_l, n_high_res))\n",
    "# Solve for Θ_l(k) for all k in k-array for all l in l-array\n",
    "\n",
    "def Θ_integrand(x, k, l):\n",
    "    \n",
    "    return S_spl(x, k)*j_l_splines[l].j_l_spline(ks_high_res[k]*(η_ini - η_spline(x)))\n",
    "\n",
    "C_l = np.zeros(n_l)\n",
    "C_ls = np.zeros(n_l)\n",
    "start = timeit.default_timer()\n",
    "for l in range(n_l):\n",
    "    print(l)    \n",
    "    for k in range(n_high_res):\n",
    "        if k%500==0:\n",
    "            print(k)\n",
    "        k0 = ks_high_res[k]\n",
    "        Θ_lk[l, k] = quad(Θ_integrand, -np.inf, 0, args=(k, l))[0]\n",
    "        \n",
    "        C_l[l] = C_l[l] + (c*k0/H0)**(ns - 1.0) * (Θ_lk[l, k]**2.0) * ((1.0/4999.0)/(k0))\n",
    "    C_ls[l] = C_l[l] * (ls[l] * (ls[l] + 1.0))/(2.0*np.pi)\n",
    "    \n",
    "stop = timeit.default_timer()\n",
    "print('Time:', stop - start)"
   ]
  },
  {
   "cell_type": "code",
   "execution_count": 61,
   "metadata": {},
   "outputs": [],
   "source": [
    "# Spline Θ_l(k) for all l\n",
    "Θlk_spl = RectBivariateSpline(ls, ks_high_res, Θ_lk)"
   ]
  },
  {
   "cell_type": "code",
   "execution_count": 62,
   "metadata": {},
   "outputs": [
    {
     "data": {
      "text/plain": [
       "'\\ndef Cl_integrand(x, k, l):\\n    \\n    return ((c*k/H0)**(ns - 1.0))*(Θlk_spl(l, k)**2.0)*(1.0/k)\\n\\nC_l = np.zeros(len(n_l))\\n\\nfor i in range(n_l):\\n    for k in range(n_high_res):\\n        C_l = quad(Cl_integrand, 0, np.inf, args=(k, l))[0]\\n'"
      ]
     },
     "execution_count": 62,
     "metadata": {},
     "output_type": "execute_result"
    }
   ],
   "source": [
    "# Integrate to get C_l for all l\n",
    "'''\n",
    "def Cl_integrand(x, k, l):\n",
    "    \n",
    "    return ((c*k/H0)**(ns - 1.0))*(Θlk_spl(l, k)**2.0)*(1.0/k)\n",
    "\n",
    "C_l = np.zeros(len(n_l))\n",
    "\n",
    "for i in range(n_l):\n",
    "    for k in range(n_high_res):\n",
    "        C_l = quad(Cl_integrand, 0, np.inf, args=(k, l))[0]\n",
    "'''\n"
   ]
  },
  {
   "cell_type": "code",
   "execution_count": 63,
   "metadata": {},
   "outputs": [
    {
     "name": "stdout",
     "output_type": "stream",
     "text": [
      "[2.18697144e+49 2.90102211e-02 1.01013046e-02 3.67290726e-03\n",
      " 1.80242726e-03 2.56682307e-05 0.00000000e+00 0.00000000e+00\n",
      " 0.00000000e+00 0.00000000e+00]\n"
     ]
    }
   ],
   "source": [
    "# Spline C_l\n",
    "print(C_ls)\n",
    "C_ls_spl = BSpline(ls, C_ls, k=spline_order)"
   ]
  },
  {
   "cell_type": "code",
   "execution_count": 79,
   "metadata": {},
   "outputs": [
    {
     "data": {
      "image/png": "[encoded data removed]",
      "text/plain": [
       "<Figure size 1100x700 with 1 Axes>"
      ]
     },
     "metadata": {
      "needs_background": "light"
     },
     "output_type": "display_data"
    }
   ],
   "source": [
    "#Pk = np.array([matter_power_spectrum(k, x) for k in ks]).flatten()\n",
    "#plt.xscale('log')\n",
    "#plt.scale('log')\n",
    "#plt.plot(ks*m2Mpc, Pk/m2Mpc**2.0)\n",
    "#plt.show()\n",
    "ls_plot = np.exp( np.linspace(np.log(2.0), np.log(lmax), 200) )\n",
    "plt.figure(figsize=(11, 7), dpi = 100)\n",
    "plt.title('CMB Angular Power-Spectrum')\n",
    "plt.xlabel('Multipole $l$')\n",
    "plt.ylabel('$l$($l$+1)/2π $C_l$ [μK$^2$]')\n",
    "plt.xscale('log')\n",
    "plt.yscale('log')\n",
    "for i in range(n_l):\n",
    "    data_C_ls = C_ls_spl(ls_plot)\n",
    "plt.plot(ls_plot, data_C_ls)\n",
    "plt.show()"
   ]
  },
  {
   "cell_type": "code",
   "execution_count": null,
   "metadata": {},
   "outputs": [],
   "source": []
  }
 ],
 "metadata": {
  "kernelspec": {
   "display_name": "Python 3",
   "language": "python",
   "name": "python3"
  },
  "language_info": {
   "codemirror_mode": {
    "name": "ipython",
    "version": 3
   },
   "file_extension": ".py",
   "mimetype": "text/x-python",
   "name": "python",
   "nbconvert_exporter": "python",
   "pygments_lexer": "ipython3",
   "version": "3.7.3"
  }
 },
 "nbformat": 4,
 "nbformat_minor": 4
}
